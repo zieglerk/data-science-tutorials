{
 "cells": [
  {
   "cell_type": "markdown",
   "metadata": {},
   "source": [
    "# Supervised Learning with Linear Models"
   ]
  },
  {
   "cell_type": "markdown",
   "metadata": {},
   "source": [
    "This section introdcuses supervised learning with a highly common approach, namely using linear models.\n",
    "\n",
    "Given our car example, how can we predict the price from horsepower and mileage?\n",
    "\n",
    "|Customer Group ($x_0$)|  Mileage ($x_1$) | Power ($x_2$) | Price ($x_3$) |\n",
    "|-|-|-|-|-|\n",
    "|Family|  50,000 | 132 | 5,000|\n",
    "|Upper Class |  10,000 | 332 | 50,000|\n",
    "|Family |  80,000 | 90 | 15,000|\n",
    "|$\\ldots$| $\\ldots$  | $\\ldots$| $\\ldots$ | \n",
    "|?|  500 | 4000 | ?|\n",
    "\n"
   ]
  },
  {
   "cell_type": "markdown",
   "metadata": {},
   "source": [
    "## Notations and Model"
   ]
  },
  {
   "cell_type": "markdown",
   "metadata": {},
   "source": [
    "Some notations. So lets denote\n",
    "\n",
    "- every attribute with $x^{(j)}$ where $j$ is the index of the column/attribute. \n",
    "- $x_i$ as the attribute vector of the $i^{(th)}$ example, i.e. $x_i=(1, x^{(1)}, x^{(2)}, x^{(3)})$ (Note that we excluded $x_{(0)}$ for *this* example and set the first dimension to 1 as constant).\n",
    "\n",
    "Now lets assume the price is a linear combination of power and mileage. So we can write\n",
    "\n",
    "$$\n",
    "x^{(3)}= w^{(0)} + w^{(1)} * x^{(1)} + w^{(2)} * x^{(2)} = w^T \\cdot x_i\n",
    "$$\n",
    "\n",
    "with $w$ being called a weight vector resp. our **model**. Note that the first dimension represents the offset/bias.\n"
   ]
  },
  {
   "cell_type": "markdown",
   "metadata": {},
   "source": [
    "To differentiate between dependent and independent variables a linear model is often written as:\n",
    "\n",
    "$$\n",
    "y_i = w^T \\cdot x_i\n",
    "$$\n",
    "where subscript $i$ denotes the $i^{(th)}$ example."
   ]
  },
  {
   "cell_type": "markdown",
   "metadata": {},
   "source": [
    "<div class = \"alert alert-info\">\n",
    "How would you adjust the weights for estimating the price?\n",
    "</div>"
   ]
  },
  {
   "cell_type": "markdown",
   "metadata": {},
   "source": [
    "**Observation**\n",
    "\n",
    "1. if $y_i > w^T \\cdot x_i $ &nbsp; the weights have been too low and need to be increased. \n",
    "2. if $y_i < w^T \\cdot x_i $ &nbsp; the weights have been too high and need to be decreased. \n",
    "3. if $y_i < w^T \\cdot x_i $ and $x_i^{(k)}>x_i^{(j)}$, then $w_i^{(k)}$ should be decreased stronger than $w_i^{(j)}$ (and vice versa for $y_i > w^T \\cdot x_i $ )\n",
    "\n",
    "**Least Mean Square Update Rule (Widrow Hoff Rule)**\n",
    "\n",
    "To quantify the amount of increase/decrease, we can formalize the cost of predicting $y_i$ wrong as sum of the squared error (SSE).\n",
    "\n",
    "$$\n",
    "cost(w,X) = \\sum_{y_i, x_i \\in X}(w^T \\cdot x_i-y_i)^2 = \\sum_{y_i, x_i \\in X}error_i(w)^2\n",
    "$$ \n",
    "\n",
    "The optimal $w$ is obtained when the cost becomes minimal, i.e.\n",
    "\n",
    "$$\n",
    "\\frac{\\partial cost(w,X)}{\\partial w} = 0\n",
    "$$ \n",
    "\n",
    "Solving the partial derivation (see [Andrew Ng's Lecture notes](http://cs229.stanford.edu/notes/cs229-notes1.pdf) for details) yields the following LMS update rule for $w$:\n",
    "\n",
    "$$ \n",
    "w^{(k)} = w^{(k)} - \\eta \\cdot error_i(w) \\cdot x_i^{(k)}\n",
    "$$\n",
    "\n",
    "**Batch and Stochastic Gradient Descent**\n",
    "\n",
    "- Iterating over all examples $x_i\\in X$ and applying the LMS update rule is called **stochastic gradient descent**\n",
    "- Summing the error over all examples and applying the LMS update rule once for all examples is called **batch gradient descent**\n",
    "\n",
    "\n",
    "\n",
    "## Least Mean Square Algorithm in Python\n",
    "\n",
    "\n",
    "\n",
    "\n",
    "\n"
   ]
  },
  {
   "cell_type": "code",
   "execution_count": 3,
   "metadata": {
    "collapsed": true
   },
   "outputs": [],
   "source": [
    "import sklearn\n",
    "import numpy as np"
   ]
  },
  {
   "cell_type": "code",
   "execution_count": 4,
   "metadata": {
    "collapsed": true
   },
   "outputs": [],
   "source": [
    "def lms(data,eta=0.1, iterations=1000, bias=True):\n",
    "    \"\"\"\n",
    "    data: tuple containing the data matrix x and target values y\n",
    "    eta: learning rate. default is 0.1\n",
    "    bias: True, if a bias term should be included\n",
    "    iterations: do some fixed amount of iterations. no need for more sophisticated stopping criterions\n",
    "    \"\"\"\n",
    "    target = data[1]\n",
    "    data = data[0]\n",
    "    dim = data.shape[1]         # get the number of attributes/features\n",
    "    num_points = data.shape[0]\n",
    "    if bias:                    # when considering the bias term we have to add w_0\n",
    "        dim+=1\n",
    "        data = np.concatenate(\n",
    "                [\n",
    "                 data, \n",
    "                 np.ones(num_points).reshape(num_points,1)\n",
    "                ]\n",
    "                ,axis=1)    # add bias term as attribute with value 1 for every data point\n",
    "    w = np.ones(dim)    # that is the weight vector as column vector    \n",
    "    for i in range(iterations):\n",
    "        next = np.random.randint(num_points)  #next example to work on\n",
    "        predict = np.dot(data[next,],w)       #predict the value of next based on the current hypothesis\n",
    "        error = target[next]-predict          # estimate the error\n",
    "        w = w + eta*error*data[next,]         # inner loop is done by numpy\n",
    "    \n",
    "    return w"
   ]
  },
  {
   "cell_type": "code",
   "execution_count": 5,
   "metadata": {
    "collapsed": false
   },
   "outputs": [
    {
     "name": "stdout",
     "output_type": "stream",
     "text": [
      "Populating the interactive namespace from numpy and matplotlib\n"
     ]
    },
    {
     "data": {
      "image/png": "[encoded data removed]",
      "text/plain": [
       "<matplotlib.figure.Figure at 0x7f3fb1868240>"
      ]
     },
     "metadata": {},
     "output_type": "display_data"
    },
    {
     "name": "stdout",
     "output_type": "stream",
     "text": [
      "[[0]\n",
      " [1]\n",
      " [2]\n",
      " [3]\n",
      " [4]\n",
      " [5]\n",
      " [6]\n",
      " [7]\n",
      " [8]\n",
      " [9]]\n"
     ]
    }
   ],
   "source": [
    "%pylab inline\n",
    "#create data and plot it\n",
    "toy = np.arange(10).reshape((10,1))\n",
    "target = toy*0.2 + 0.5\n",
    "plot (toy, target, 'g.')\n",
    "show()\n",
    "print (toy)"
   ]
  },
  {
   "cell_type": "code",
   "execution_count": 6,
   "metadata": {
    "collapsed": false
   },
   "outputs": [
    {
     "name": "stdout",
     "output_type": "stream",
     "text": [
      "[ 0.19650847  0.5219357 ]\n"
     ]
    }
   ],
   "source": [
    "#run lms with parameters that work (see practical tips)\n",
    "data_zipped = (toy,target)\n",
    "print (lms(data_zipped,iterations=10000,eta=0.001))"
   ]
  },
  {
   "cell_type": "code",
   "execution_count": 7,
   "metadata": {
    "collapsed": false
   },
   "outputs": [
    {
     "name": "stdout",
     "output_type": "stream",
     "text": [
      "[ 0.15308213  0.7767252 ]\n"
     ]
    },
    {
     "data": {
      "image/png": "[encoded data removed]",
      "text/plain": [
       "<matplotlib.figure.Figure at 0x7f3fad42cef0>"
      ]
     },
     "metadata": {},
     "output_type": "display_data"
    }
   ],
   "source": [
    "w = lms(data_zipped,iterations=1000,eta=0.001)\n",
    "plot(toy,target,'g.')\n",
    "plot(toy,toy*w[0]+w[1],'r')\n",
    "print (w)\n",
    "show()"
   ]
  },
  {
   "cell_type": "markdown",
   "metadata": {},
   "source": [
    "##### Remarks on Parameter Settings\n",
    "   * In the run above we get close, but do not find the correct solution. Increasing the number of iterations leads to the correct solution if $\\eta$ is small enough. \n",
    "   * chosing $\\eta$ larger needs less iterations. However, a too large $\\eta$ yields too large updates and the LMS algorithm might diverge. So $\\eta$ must be sufficiently small"
   ]
  },
  {
   "cell_type": "markdown",
   "metadata": {},
   "source": [
    "## Exercise Least Mean Square Algorithm"
   ]
  },
  {
   "cell_type": "markdown",
   "metadata": {},
   "source": [
    "Import the Boston Housing Data set in sckit learn and apply the above LMS algorithm to predict the attribute \"MEDV: Median value of owner-occupied homes in \\$1000's\". Answer the following questions:\n",
    "\n",
    "- How accurate is the model for predicting prices?\n",
    "- How could you estimate the goodness of the fit?\n",
    "- Play with the paramters to compare runtime vs. accuracy.\n",
    "- Evaluate the impact of feature scaling\n",
    "\n",
    "The solution can be found under [Boston_house_Linear_Regression.ipynb](Boston_house_Linear_Regression.ipynb)"
   ]
  },
  {
   "cell_type": "markdown",
   "metadata": {
    "collapsed": true
   },
   "source": [
    "**Notes/Code snippets to use:**\n",
    "\n",
    "- try to start with one dimension only and compare its predictive power for a price\n",
    "- plot the data with functions from below to get an idea on the data quality"
   ]
  },
  {
   "cell_type": "code",
   "execution_count": 8,
   "metadata": {
    "collapsed": true
   },
   "outputs": [],
   "source": [
    "#import the data set\n",
    "import sklearn.datasets as datasets\n",
    "ds = datasets.load_boston()"
   ]
  },
  {
   "cell_type": "code",
   "execution_count": 9,
   "metadata": {
    "collapsed": false
   },
   "outputs": [
    {
     "data": {
      "text/plain": [
       "{'boxes': [<matplotlib.lines.Line2D at 0x7f3fad362cf8>],\n",
       " 'caps': [<matplotlib.lines.Line2D at 0x7f3fad2f5710>,\n",
       "  <matplotlib.lines.Line2D at 0x7f3fad2f5f28>],\n",
       " 'fliers': [<matplotlib.lines.Line2D at 0x7f3fad2fcf98>],\n",
       " 'means': [],\n",
       " 'medians': [<matplotlib.lines.Line2D at 0x7f3fad2fc128>],\n",
       " 'whiskers': [<matplotlib.lines.Line2D at 0x7f3fad362eb8>,\n",
       "  <matplotlib.lines.Line2D at 0x7f3fad2efeb8>]}"
      ]
     },
     "execution_count": 9,
     "metadata": {},
     "output_type": "execute_result"
    },
    {
     "data": {
      "image/png": "[encoded data removed]",
      "text/plain": [
       "<matplotlib.figure.Figure at 0x7f3fb1863b38>"
      ]
     },
     "metadata": {},
     "output_type": "display_data"
    }
   ],
   "source": [
    "#do a boxplot\n",
    "boxplot(ds.data[:,12],vert=False, labels=[\"Boxplot of \" + ds.feature_names[12]])"
   ]
  },
  {
   "cell_type": "code",
   "execution_count": 10,
   "metadata": {
    "collapsed": false
   },
   "outputs": [
    {
     "data": {
      "text/plain": [
       "[<matplotlib.lines.Line2D at 0x7f3fad285c88>]"
      ]
     },
     "execution_count": 10,
     "metadata": {},
     "output_type": "execute_result"
    },
    {
     "data": {
      "image/png": "[encoded data removed]",
      "text/plain": [
       "<matplotlib.figure.Figure at 0x7f3fad3a1e48>"
      ]
     },
     "metadata": {},
     "output_type": "display_data"
    }
   ],
   "source": [
    "#plot two attributes against each other\n",
    "attribute1 = 1 \n",
    "attribute2 = 2 \n",
    "plot(ds.data[:,attribute1],ds.data[:,attribute2],\".\")"
   ]
  }
 ],
 "metadata": {
  "kernelspec": {
   "display_name": "Python 3",
   "language": "python",
   "name": "python3"
  },
  "language_info": {
   "codemirror_mode": {
    "name": "ipython",
    "version": 3
   },
   "file_extension": ".py",
   "mimetype": "text/x-python",
   "name": "python",
   "nbconvert_exporter": "python",
   "pygments_lexer": "ipython3",
   "version": "3.6.0"
  }
 },
 "nbformat": 4,
 "nbformat_minor": 2
}
