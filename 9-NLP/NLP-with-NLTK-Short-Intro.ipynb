{
 "metadata": {
  "name": "",
  "signature": "sha256:6c44397e6b36d84ddf8e18ca7d4c1a85ccacc75b6555c510fb804a62f772675d"
 },
 "nbformat": 3,
 "nbformat_minor": 0,
 "worksheets": [
  {
   "cells": [
    {
     "cell_type": "markdown",
     "metadata": {
      "internals": {
       "slide_helper": "subslide_end",
       "slide_type": "subslide"
      },
      "slide_helper": "slide_end",
      "slideshow": {
       "slide_type": "slide"
      }
     },
     "source": [
      "# A brief introdcution to Natural Language Processing with Python NLTK\n",
      "\n",
      "by \n",
      "\n",
      "[__Michael Granitzer__ (michael.granitzer@uni-passau.de)]( http://www.mendeley.com/profiles/michael-granitzer/)\n",
      "\n",
      "<p>\n",
      "<p>\n",
      "<br>\n",
      "__Licences__\n",
      "<br />This work is licensed under a <a rel=\"license\" href=\"http://creativecommons.org/licenses/by-nc-sa/4.0/\">Creative Commons Attribution-NonCommercial-ShareAlike 4.0 International License</a>.\n",
      "<a rel=\"license\" href=\"http://creativecommons.org/licenses/by-nc-sa/4.0/\" align=\"left\"><img alt=\"Creative Commons License\" style=\"border-width:0\" src=\"https://i.creativecommons.org/l/by-nc-sa/4.0/88x31.png\" /></a>\n"
     ]
    },
    {
     "cell_type": "heading",
     "level": 1,
     "metadata": {
      "heading_collapsed": false,
      "internals": {
       "slide_type": "subslide"
      },
      "slideshow": {
       "slide_type": "slide"
      }
     },
     "source": [
      "Overview - Natural Language Processing"
     ]
    },
    {
     "cell_type": "markdown",
     "metadata": {
      "internals": {
       "frag_number": 2
      },
      "slideshow": {
       "slide_type": "fragment"
      }
     },
     "source": [
      "<div class=\"alert alert-warning\">\n",
      "**Natural Language Processing** is the field concerned with the development of theories, methods and systems that allow computers to analyse, process, understand and generate natural human language. \n",
      "</div>"
     ]
    },
    {
     "cell_type": "markdown",
     "metadata": {
      "internals": {
       "frag_helper": "fragment_end",
       "frag_number": 3,
       "slide_helper": "subslide_end"
      },
      "slide_helper": "subslide_end",
      "slideshow": {
       "slide_type": "fragment"
      }
     },
     "source": [
      "**Challenges in Natural Language**\n",
      "\n",
      "- Ambiguity is inherent in natural language\n",
      "- Complex, context sensitive grammatic\n",
      "- Understanding natural language requires a large amount of background knowledge \n",
      "- Natural language occurs in different modalities, i.e. written text, spoken text, which require different preprocessing\n",
      "\n",
      "**Machine Learning, Stochastic and probabilistical methods** provide central components for solving challenges in natural language processing. They are summarized under the term **statistical NLP** "
     ]
    },
    {
     "cell_type": "heading",
     "level": 2,
     "metadata": {
      "heading_collapsed": false,
      "internals": {
       "frag_helper": "fragment_end",
       "frag_number": 3,
       "slide_type": "subslide"
      },
      "slideshow": {
       "slide_type": "subslide"
      }
     },
     "source": [
      "NLP Tasks"
     ]
    },
    {
     "cell_type": "markdown",
     "metadata": {
      "internals": {
       "frag_helper": "fragment_end",
       "frag_number": 5,
       "slide_helper": "subslide_end"
      },
      "slide_helper": "subslide_end",
      "slideshow": {
       "slide_type": "fragment"
      }
     },
     "source": [
      "**Some NLP Tasks**\n",
      "\n",
      "- **Automatic Summarization**: Summarize a given text\n",
      "- **Coreference resultion**: Resolve references of one word to another word in text (e.g. pronouns to nouns)\n",
      "- **Machine translation**: Automatically translate from one language into another\n",
      "- **Morphological Analysis**: Separate words to morphemes and identify their class.\n",
      "- **Named Entity Recognition**: determine proper nouns and their class\n",
      "- **Natural Language Generation**\n",
      "- **Natural Language Understanding**: Convert text into a formal representation like first order logic\n",
      "- **Optical Charachter Recognition**: Convert images to text\n",
      "- **Part-of-Speech tagging**: Determine the part of speech for each word\n",
      "- **Parsing**: Conduct a grammatical analysis, i.e. extract a parsing tree\n",
      "- **Question and Answering**: Answer human-language questions\n",
      "- **Relationship Extraction**: determing relationships between named entities\n",
      "- **Sentiment Analysis**: analyse subjective information and determine the polarity of a text\n",
      "- **Speech recognition**: Converte speech to text\n",
      "- **Speech segmentation**: separate spoken language into words\n",
      "- **Topic segmentation**: separate a chunk of text into topics\n",
      "- **Word segementation**: separate a chunk of text into separate words (relevant for most non-Western languages)\n",
      "- **Word sense disambiguation**: Determine the meaning of a word.\n"
     ]
    },
    {
     "cell_type": "markdown",
     "metadata": {
      "internals": {
       "frag_helper": "fragment_end",
       "frag_number": 5,
       "slide_helper": "subslide_end",
       "slide_type": "subslide"
      },
      "slide_helper": "subslide_end",
      "slideshow": {
       "slide_type": "subslide"
      }
     },
     "source": [
      "**Related Fields sharing some tasks**\n",
      "\n",
      "- Information Retrieval - storing, searching and retrieving (textual) information\n",
      "- Information Extraction - extracting semantic information from text\n",
      "- Speech Processing - processing and analyzing spoken language\n",
      "- Web Content Mining - Analysing web content"
     ]
    },
    {
     "cell_type": "heading",
     "level": 2,
     "metadata": {
      "heading_collapsed": false,
      "internals": {
       "frag_helper": "fragment_end",
       "frag_number": 5,
       "slide_type": "subslide"
      },
      "slideshow": {
       "slide_type": "subslide"
      }
     },
     "source": [
      "1.2. IBM WATSON - An Example"
     ]
    },
    {
     "cell_type": "code",
     "collapsed": false,
     "input": [
      "from IPython.display import YouTubeVideo\n",
      "YouTubeVideo('WFR3lOm_xhE')"
     ],
     "language": "python",
     "metadata": {
      "internals": {
       "frag_helper": "fragment_end",
       "frag_number": 8,
       "slide_helper": "subslide_end"
      },
      "slide_helper": "subslide_end",
      "slideshow": {
       "slide_type": "fragment"
      }
     },
     "outputs": [
      {
       "html": [
        "\n",
        "        <iframe\n",
        "            width=\"400\"\n",
        "            height=300\"\n",
        "            src=\"https://www.youtube.com/embed/WFR3lOm_xhE\"\n",
        "            frameborder=\"0\"\n",
        "            allowfullscreen\n",
        "        ></iframe>\n",
        "        "
       ],
       "metadata": {},
       "output_type": "pyout",
       "prompt_number": 2,
       "text": [
        "<IPython.lib.display.YouTubeVideo at 0x106611e10>"
       ]
      }
     ],
     "prompt_number": 2
    },
    {
     "cell_type": "heading",
     "level": 1,
     "metadata": {
      "heading_collapsed": false,
      "internals": {
       "frag_helper": "fragment_end",
       "frag_number": 8,
       "slide_type": "subslide"
      },
      "slideshow": {
       "slide_type": "subslide"
      }
     },
     "source": [
      "NLTK - The Python Natural Language Toolkit"
     ]
    },
    {
     "cell_type": "markdown",
     "metadata": {
      "internals": {
       "frag_helper": "fragment_end",
       "frag_number": 10
      },
      "slideshow": {
       "slide_type": "fragment"
      }
     },
     "source": [
      "Python offers a rich set of libraries for natural language processing. The most famous and most complete one is the **Natural Language Toolkit** short **NLTK**. Current version is 3.0."
     ]
    },
    {
     "cell_type": "markdown",
     "metadata": {
      "internals": {
       "frag_helper": "fragment_end",
       "frag_number": 11,
       "slide_helper": "subslide_end"
      },
      "slide_helper": "subslide_end",
      "slideshow": {
       "slide_type": "fragment"
      }
     },
     "source": [
      "<div class=\"alert alert-warning\">\n",
      "\"**NLTK** is a leading platform for building Python programs to work with human language data. It provides easy-to-use interfaces to over 50 corpora and lexical resources such as WordNet, along with a suite of text processing libraries for classification, tokenization, stemming, tagging, parsing, and semantic reasoning, and an active discussion forum.\" [nltk.org](http://www.nltk.org/)\n",
      "</div>\n"
     ]
    },
    {
     "cell_type": "heading",
     "level": 2,
     "metadata": {
      "heading_collapsed": false,
      "internals": {
       "frag_helper": "fragment_end",
       "frag_number": 11,
       "slide_type": "subslide"
      },
      "slideshow": {
       "slide_type": "subslide"
      }
     },
     "source": [
      "Installation"
     ]
    },
    {
     "cell_type": "markdown",
     "metadata": {
      "internals": {
       "frag_helper": "fragment_end",
       "frag_number": 13
      },
      "slideshow": {
       "slide_type": "fragment"
      }
     },
     "source": [
      "For details see the [install instructions](http://www.nltk.org/install.html)"
     ]
    },
    {
     "cell_type": "code",
     "collapsed": false,
     "input": [
      "# the cheap variant\n",
      "try:\n",
      "   import nltk\n",
      "except:\n",
      "   !pip install --user nltk #or use !easy_install --user nltk "
     ],
     "language": "python",
     "metadata": {
      "internals": {
       "frag_helper": "fragment_end",
       "frag_number": 14
      },
      "slideshow": {
       "slide_type": "fragment"
      }
     },
     "outputs": [],
     "prompt_number": 11
    },
    {
     "cell_type": "markdown",
     "metadata": {
      "internals": {
       "frag_helper": "fragment_end",
       "frag_number": 15
      },
      "slideshow": {
       "slide_type": "fragment"
      }
     },
     "source": [
      "NLTK relies on some resourcs, which have to be installed separately. nltk provides a download interface, which we will need later."
     ]
    },
    {
     "cell_type": "code",
     "collapsed": false,
     "input": [
      "#show the available corpora through the nlp download method\n",
      "import nltk\n",
      "nltk.download() # look for a window that is opened"
     ],
     "language": "python",
     "metadata": {
      "internals": {
       "frag_helper": "fragment_end",
       "frag_number": 16,
       "slide_helper": "subslide_end"
      },
      "slide_helper": "subslide_end",
      "slideshow": {
       "slide_type": "fragment"
      }
     },
     "outputs": [
      {
       "output_type": "stream",
       "stream": "stdout",
       "text": [
        "showing info http://nltk.github.com/nltk_data/\n"
       ]
      },
      {
       "metadata": {},
       "output_type": "pyout",
       "prompt_number": 1,
       "text": [
        "True"
       ]
      }
     ],
     "prompt_number": 1
    },
    {
     "cell_type": "heading",
     "level": 3,
     "metadata": {
      "heading_collapsed": false,
      "internals": {
       "frag_helper": "fragment_end",
       "frag_number": 16,
       "slide_type": "subslide"
      },
      "slideshow": {
       "slide_type": "subslide"
      }
     },
     "source": [
      "Features"
     ]
    },
    {
     "cell_type": "markdown",
     "metadata": {
      "internals": {
       "frag_helper": "fragment_end",
       "frag_number": 18,
       "slide_helper": "subslide_end"
      },
      "slide_helper": "subslide_end",
      "slideshow": {
       "slide_type": "fragment"
      }
     },
     "source": [
      "- Large set of functionalities: corpus reader, tokenizers, stemmers, taggers, chunker, parsers, word net\n",
      "- rich set of integrated text corpora for testing/evaluation\n",
      "- Good documentation and sources for learning both, python and NLP ([see the NLTK Book](http://www.nltk.org/book/))"
     ]
    },
    {
     "cell_type": "heading",
     "level": 3,
     "metadata": {
      "heading_collapsed": false,
      "internals": {
       "frag_helper": "fragment_end",
       "frag_number": 18,
       "slide_type": "subslide"
      },
      "slideshow": {
       "slide_type": "subslide"
      }
     },
     "source": [
      "Usage"
     ]
    },
    {
     "cell_type": "code",
     "collapsed": false,
     "input": [
      "#import the nltk module\n",
      "import nltk\n",
      "help(nltk)"
     ],
     "language": "python",
     "metadata": {
      "internals": {
       "frag_helper": "fragment_end",
       "frag_number": 18,
       "slide_helper": "subslide_end"
      },
      "slide_helper": "slide_end",
      "slideshow": {
       "slide_type": "-"
      }
     },
     "outputs": [
      {
       "output_type": "stream",
       "stream": "stdout",
       "text": [
        "Help on package nltk:\n",
        "\n",
        "NAME\n",
        "    nltk\n",
        "\n",
        "FILE\n",
        "    /opt/local/Library/Frameworks/Python.framework/Versions/2.7/lib/python2.7/site-packages/nltk/__init__.py\n",
        "\n",
        "DESCRIPTION\n",
        "    The Natural Language Toolkit (NLTK) is an open source Python library\n",
        "    for Natural Language Processing.  A free online book is available.\n",
        "    (If you use the library for academic research, please cite the book.)\n",
        "    \n",
        "    Steven Bird, Ewan Klein, and Edward Loper (2009).\n",
        "    Natural Language Processing with Python.  O'Reilly Media Inc.\n",
        "    http://nltk.org/book\n",
        "    \n",
        "    @version: 3.0.0\n",
        "\n",
        "PACKAGE CONTENTS\n",
        "    align (package)\n",
        "    app (package)\n",
        "    book\n",
        "    ccg (package)\n",
        "    chat (package)\n",
        "    chunk (package)\n",
        "    classify (package)\n",
        "    cluster (package)\n",
        "    collocations\n",
        "    compat\n",
        "    corpus (package)\n",
        "    data\n",
        "    decorators\n",
        "    downloader\n",
        "    draw (package)\n",
        "    featstruct\n",
        "    grammar\n",
        "    help\n",
        "    inference (package)\n",
        "    internals\n",
        "    jsontags\n",
        "    lazyimport\n",
        "    metrics (package)\n",
        "    misc (package)\n",
        "    parse (package)\n",
        "    probability\n",
        "    sem (package)\n",
        "    stem (package)\n",
        "    tag (package)\n",
        "    tbl (package)\n",
        "    test (package)\n",
        "    text\n",
        "    tokenize (package)\n",
        "    toolbox\n",
        "    tree\n",
        "    treetransforms\n",
        "    util\n",
        "    wsd\n",
        "\n",
        "SUBMODULES\n",
        "    agreement\n",
        "    api\n",
        "    association\n",
        "    boxer\n",
        "    brill\n",
        "    brill_trainer\n",
        "    chart\n",
        "    confusionmatrix\n",
        "    decisiontree\n",
        "    dependencygraph\n",
        "    discourse\n",
        "    distance\n",
        "    drt\n",
        "    earleychart\n",
        "    em\n",
        "    evaluate\n",
        "    featurechart\n",
        "    gaac\n",
        "    glue\n",
        "    hmm\n",
        "    hunpos\n",
        "    ibm1\n",
        "    ibm2\n",
        "    ibm3\n",
        "    isri\n",
        "    kmeans\n",
        "    lancaster\n",
        "    lfg\n",
        "    linearlogic\n",
        "    logic\n",
        "    mace\n",
        "    malt\n",
        "    mapping\n",
        "    maxent\n",
        "    megam\n",
        "    naivebayes\n",
        "    nltk.app\n",
        "    nltk.chat\n",
        "    nltk.corpus\n",
        "    nltk.toolbox\n",
        "    nonprojectivedependencyparser\n",
        "    paice\n",
        "    pchart\n",
        "    porter\n",
        "    positivenaivebayes\n",
        "    projectivedependencyparser\n",
        "    prover9\n",
        "    punkt\n",
        "    recursivedescent\n",
        "    regexp\n",
        "    relextract\n",
        "    resolution\n",
        "    rslp\n",
        "    rte_classify\n",
        "    scikitlearn\n",
        "    scores\n",
        "    segmentation\n",
        "    sequential\n",
        "    sexpr\n",
        "    shiftreduce\n",
        "    simple\n",
        "    snowball\n",
        "    spearman\n",
        "    stanford\n",
        "    tableau\n",
        "    tadm\n",
        "    texttiling\n",
        "    tnt\n",
        "    treebank\n",
        "    viterbi\n",
        "    weka\n",
        "    wordnet\n",
        "\n",
        "FUNCTIONS\n",
        "    demo()\n",
        "        # override any accidentally imported demo\n",
        "\n",
        "DATA\n",
        "    SLASH = *slash*\n",
        "    TYPE = *type*\n",
        "    __author__ = 'Steven Bird, Edward Loper, Ewan Klein'\n",
        "    __author_email__ = 'stevenbird1@gmail.com'\n",
        "    __classifiers__ = ['Development Status :: 5 - Production/Stable', 'Int...\n",
        "    __copyright__ = 'Copyright (C) 2001-2014 NLTK Project.\\n\\nDistribut......\n",
        "    __keywords__ = ['NLP', 'CL', 'natural language processing', 'computati...\n",
        "    __license__ = 'Apache License, Version 2.0'\n",
        "    __longdescr__ = 'The Natural Language Toolkit (NLTK) is a Python ... p...\n",
        "    __maintainer__ = 'Steven Bird, Edward Loper, Ewan Klein'\n",
        "    __maintainer_email__ = 'stevenbird1@gmail.com'\n",
        "    __url__ = 'http://nltk.org/'\n",
        "    __version__ = '3.0.0'\n",
        "    absolute_import = _Feature((2, 5, 0, 'alpha', 1), (3, 0, 0, 'alpha', 0...\n",
        "    class_types = (<type 'type'>, <type 'classobj'>)\n",
        "    corpus = <LazyModule 'nltk.corpus'>\n",
        "    infile = <closed file '/opt/local/Library/Frameworks/Pyth.../python2.7...\n",
        "    json_tags = {'!nltk.tag.BrillTagger': <class 'nltk.tag.brill.BrillTagg...\n",
        "    print_function = _Feature((2, 6, 0, 'alpha', 2), (3, 0, 0, 'alpha', 0)...\n",
        "    string_types = (<type 'basestring'>,)\n",
        "    tkinter = <nltk.compat.TkinterPackage object>\n",
        "    toolbox = <LazyModule 'nltk.toolbox'>\n",
        "    version_file = '/opt/local/Library/Frameworks/Python.framework/Version...\n",
        "    version_info = sys.version_info(major=2, minor=7, micro=8, releaseleve...\n",
        "\n",
        "VERSION\n",
        "    3.0.0\n",
        "\n",
        "AUTHOR\n",
        "    Steven Bird, Edward Loper, Ewan Klein\n",
        "\n",
        "\n"
       ]
      }
     ],
     "prompt_number": 13
    },
    {
     "cell_type": "heading",
     "level": 1,
     "metadata": {
      "heading_collapsed": false,
      "internals": {
       "frag_helper": "fragment_end",
       "frag_number": 18,
       "slide_type": "subslide"
      },
      "slideshow": {
       "slide_type": "slide"
      }
     },
     "source": [
      "Processing Raw Text"
     ]
    },
    {
     "cell_type": "markdown",
     "metadata": {
      "internals": {
       "frag_helper": "fragment_end",
       "frag_number": 22,
       "slide_helper": "subslide_end"
      },
      "slide_helper": "subslide_end",
      "slideshow": {
       "slide_type": "fragment"
      }
     },
     "source": [
      "Usually text processing starts with an artefact containing textual information in some form (e.g. plain text, PDF Document, audio signal) and involves the following steps:\n",
      "\n",
      "1. Binary Content to Text: Convert the binary data to a string representation\n",
      "\n",
      "   `bytes --> String`\n",
      "   <p>  \n",
      "2. Tokenization: split the string into tokens\n",
      "   1. Sentence Tokenization: every token represents a sentence\n",
      "   2. Word Tokenization: Every token represents a word\n",
      "   3. Character Tokenization: Every token represents a character sequence\n",
      "\n",
      "  `String --> list of list of strings` \n",
      "  \n",
      "  or\n",
      "  \n",
      "  `String --> list of strings`\n",
      " \n",
      "3. Normalization and Tagging: \n",
      "\n",
      "   1. reduce tokens into a normalized form (e.g. lower case, word stems etc.)\n",
      "\n",
      "         `list of strings --> list of strings`\n",
      "     <p>    \n",
      "   2. tag tokens with additional information, like their part of speech\n",
      "   \n",
      "         `list of strings --> list of tuples`\n",
      "         \n",
      "4. Filtering and Vocabulary Building: We can now filter the list of tokens to our need, for example keep only nouns, and create and analyse the vocabulary.\n",
      "\n",
      "     `list of tuples or strings --> set of tuples or strings`\n",
      "     <p>\n"
     ]
    },
    {
     "cell_type": "heading",
     "level": 2,
     "metadata": {
      "heading_collapsed": false,
      "internals": {
       "frag_helper": "fragment_end",
       "frag_number": 22,
       "slide_type": "subslide"
      },
      "slideshow": {
       "slide_type": "subslide"
      }
     },
     "source": [
      "Processing raw text example"
     ]
    },
    {
     "cell_type": "markdown",
     "metadata": {
      "internals": {
       "frag_helper": "fragment_end",
       "frag_number": 22
      },
      "slideshow": {
       "slide_type": "-"
      }
     },
     "source": [
      "In the following example we will load text from a web site and extract tokens out of it.\n",
      "\n",
      "Note that we need the [requests module](http://docs.python-requests.org/en/latest/) for making http requests.\n",
      "\n",
      "Further, in order to parse HTML we will use the [Beautiful Soup library](http://www.crummy.com/software/BeautifulSoup/), which also needs to be installed. "
     ]
    },
    {
     "cell_type": "code",
     "collapsed": false,
     "input": [
      "try:\n",
      "    import requests\n",
      "except:\n",
      "    !easy_install --user requests\n",
      "try:\n",
      "    import bs4\n",
      "except:\n",
      "    !easy_install --user beautifulsoup4"
     ],
     "language": "python",
     "metadata": {
      "internals": {
       "frag_helper": "fragment_end",
       "frag_number": 25,
       "slide_helper": "subslide_end"
      },
      "slide_helper": "subslide_end",
      "slideshow": {
       "slide_type": "fragment"
      }
     },
     "outputs": [],
     "prompt_number": 1
    },
    {
     "cell_type": "heading",
     "level": 3,
     "metadata": {
      "heading_collapsed": false,
      "internals": {
       "frag_helper": "fragment_end",
       "frag_number": 25,
       "slide_type": "subslide"
      },
      "slideshow": {
       "slide_type": "subslide"
      }
     },
     "source": [
      "Step1: Binary to Text"
     ]
    },
    {
     "cell_type": "markdown",
     "metadata": {
      "internals": {
       "frag_helper": "fragment_end",
       "frag_number": 27
      },
      "slideshow": {
       "slide_type": "fragment"
      }
     },
     "source": [
      "Binary to text is the most obvious step, but most often also the most critical. Most often, binary formats do not allow to extract only they usefull text. Especially in Web Mining Cleaning the data can be very cumbesome and labour intesive."
     ]
    },
    {
     "cell_type": "code",
     "collapsed": false,
     "input": [
      "#fetch the web page\n",
      "import requests\n",
      "url = \"http://www.nltk.org/book/ch03.html\"\n",
      "r = requests.get(url)\n",
      "print r.content[0:800]"
     ],
     "language": "python",
     "metadata": {
      "internals": {
       "frag_helper": "fragment_end",
       "frag_number": 28
      },
      "slideshow": {
       "slide_type": "fragment"
      }
     },
     "outputs": [
      {
       "output_type": "stream",
       "stream": "stdout",
       "text": [
        "<?xml version=\"1.0\" encoding=\"ascii\" ?>\n",
        "\n",
        "<script language=\"javascript\" type=\"text/javascript\">\n",
        "\n",
        "function astext(node)\n",
        "{\n",
        "    return node.innerHTML.replace(/(<([^>]+)>)/ig,\"\")\n",
        "                         .replace(/&gt;/ig, \">\")\n",
        "                         .replace(/&lt;/ig, \"<\")\n",
        "                         .replace(/&quot;/ig, '\"')\n",
        "                         .replace(/&amp;/ig, \"&\");\n",
        "}\n",
        "\n",
        "function copy_notify(node, bar_color, data)\n",
        "{\n",
        "    // The outer box: relative + inline positioning.\n",
        "    var box1 = document.createElement(\"div\");\n",
        "    box1.style.position = \"relative\";\n",
        "    box1.style.display = \"inline\";\n",
        "    box1.style.top = \"2em\";\n",
        "    box1.style.left = \"1em\";\n",
        "  \n",
        "    // A shadow for fun\n",
        "    var shadow = document.createElement(\"div\");\n",
        "    shadow.style.position = \"absolute\";\n",
        "    shadow.style.left = \"-1.3em\";\n"
       ]
      }
     ],
     "prompt_number": 14
    },
    {
     "cell_type": "code",
     "collapsed": false,
     "input": [
      "#clean html\n",
      "from bs4  import BeautifulSoup\n",
      "text = BeautifulSoup(r.text).get_text()\n",
      "#not perfect, but we have text now.\n",
      "print type(text)\n",
      "print text [0:500]"
     ],
     "language": "python",
     "metadata": {
      "internals": {
       "frag_helper": "fragment_end",
       "frag_number": 29,
       "slide_helper": "subslide_end"
      },
      "slide_helper": "subslide_end",
      "slideshow": {
       "slide_type": "fragment"
      }
     },
     "outputs": [
      {
       "output_type": "stream",
       "stream": "stdout",
       "text": [
        "<type 'unicode'>\n",
        "\n",
        "\n",
        "function astext(node)\n",
        "{\n",
        "    return node.innerHTML.replace(/(<([^>]+)>)/ig,\"\")\n",
        "                         .replace(/&gt;/ig, \">\")\n",
        "                         .replace(/&lt;/ig, \"<\")\n",
        "                         .replace(/&quot;/ig, '\"')\n",
        "                         .replace(/&amp;/ig, \"&\");\n",
        "}\n",
        "\n",
        "function copy_notify(node, bar_color, data)\n",
        "{\n",
        "    // The outer box: relative + inline positioning.\n",
        "    var box1 = document.createElement(\"div\");\n",
        "    box1.style.position = \"relative\";\n",
        "    box1.style.display = \"inline\";\n"
       ]
      }
     ],
     "prompt_number": 15
    },
    {
     "cell_type": "code",
     "collapsed": false,
     "input": [
      "soup = BeautifulSoup(r.text)\n",
      "print soup.prettify()[0:500]"
     ],
     "language": "python",
     "metadata": {
      "internals": {
       "frag_helper": "fragment_end",
       "frag_number": 29,
       "slide_type": "subslide"
      },
      "slideshow": {
       "slide_type": "subslide"
      }
     },
     "outputs": [
      {
       "output_type": "stream",
       "stream": "stdout",
       "text": [
        "<html>\n",
        " <head>\n",
        "  <script language=\"javascript\" type=\"text/javascript\">\n",
        "   function astext(node)\n",
        "{\n",
        "    return node.innerHTML.replace(/(<([^>]+)>)/ig,\"\")\n",
        "                         .replace(/&gt;/ig, \">\")\n",
        "                         .replace(/&lt;/ig, \"<\")\n",
        "                         .replace(/&quot;/ig, '\"')\n",
        "                         .replace(/&amp;/ig, \"&\");\n",
        "}\n",
        "\n",
        "function copy_notify(node, bar_color, data)\n",
        "{\n",
        "    // The outer box: relative + inline positioning.\n",
        "    var box1 = document.createElement(\"div\");\n",
        "\n"
       ]
      }
     ],
     "prompt_number": 16
    },
    {
     "cell_type": "code",
     "collapsed": false,
     "input": [
      "#Lets remove script and style tags\n",
      "soup = BeautifulSoup(r.text) \n",
      "[s.extract() for s in soup(['script','style', 'xml', 'head'])]\n",
      "text = soup.get_text()\n",
      "print text[0:500]  "
     ],
     "language": "python",
     "metadata": {
      "internals": {
       "frag_helper": "fragment_end",
       "frag_number": 31
      },
      "slideshow": {
       "slide_type": "fragment"
      }
     },
     "outputs": [
      {
       "output_type": "stream",
       "stream": "stdout",
       "text": [
        "\n",
        "\n",
        "\n",
        "\n",
        "\n",
        "\n",
        ".. -*- mode:\n",
        "System Message: WARNING/2 (ch03.rst2, line 1); backlink\n",
        "Inline emphasis start-string without end-string.\n",
        "rst -*-\n",
        "\n",
        "System Message: WARNING/2 (ch03.rst2, line 1); backlink\n",
        "Inline emphasis start-string without end-string.\n",
        "\n",
        "\n",
        "\n",
        "\n",
        "\n",
        "System Message: WARNING/2 (ch03.rst2, line 2)\n",
        "Field list ends without a blank line; unexpected unindent.\n",
        "\n",
        "\n",
        "\n",
        "\n",
        "\n",
        "\n",
        "\n",
        "\n",
        "\n",
        "\n",
        "\n",
        "\n",
        "\n",
        "\n",
        "\n",
        "\n",
        "\n",
        "\n",
        "\n",
        "\n",
        "\n",
        "\n",
        "\n",
        "\n",
        "\n",
        "\n",
        "\n",
        "\n",
        "\n",
        "\n",
        "\n",
        "\n",
        "\n",
        "\n",
        "\n",
        "\n",
        "\n",
        "\n",
        "\n",
        "\n",
        "\n",
        "\n",
        "\n",
        "\n",
        "\n",
        "\n",
        "\n",
        "\n",
        "3\u00a0\u00a0\u00a0Processing Raw Text\n",
        "The most important source of texts is undoubtedly the Web.  It's convenient\n",
        "to h\n"
       ]
      }
     ],
     "prompt_number": 17
    },
    {
     "cell_type": "markdown",
     "metadata": {
      "internals": {
       "frag_helper": "fragment_end",
       "frag_number": 32,
       "slide_helper": "subslide_end"
      },
      "slide_helper": "subslide_end",
      "slideshow": {
       "slide_type": "fragment"
      }
     },
     "source": [
      "As you can see, we got rid of the HTML tags. However, this does not necessarily mean we have the correct content. Usually a more intelligent approach is needed to extract the interesting content from web pages. However, this is beyond the scope of this lecture."
     ]
    },
    {
     "cell_type": "heading",
     "level": 3,
     "metadata": {
      "heading_collapsed": false,
      "internals": {
       "frag_helper": "fragment_end",
       "frag_number": 32,
       "slide_type": "subslide"
      },
      "slideshow": {
       "slide_type": "subslide"
      }
     },
     "source": [
      "Step 2: Tokenization"
     ]
    },
    {
     "cell_type": "markdown",
     "metadata": {
      "internals": {
       "frag_helper": "fragment_end",
       "frag_number": 32,
       "slide_helper": "subslide_end"
      },
      "slide_helper": "subslide_end",
      "slideshow": {
       "slide_type": "-"
      }
     },
     "source": [
      "Tokenization can work on different textual elements and using different techniques. In principal one can distinguish between\n",
      "\n",
      "- word vs. sentence level tokenization\n",
      "- rule-based vs. machine learning based tokenizers\n",
      "\n",
      "Although tokenization seems to be pretty simple, a number of disambiguities can arise, like for example through ambigous meaning of punctuations (e.g. \".\" in \"12.12.2016\", \"didn't\").\n",
      "\n",
      "NLTK contains state of the art models providing good results.\n"
     ]
    },
    {
     "cell_type": "code",
     "collapsed": false,
     "input": [
      "import nltk\n",
      "help(nltk.sent_tokenize)"
     ],
     "language": "python",
     "metadata": {
      "internals": {
       "frag_helper": "fragment_end",
       "frag_number": 32,
       "slide_type": "subslide"
      },
      "slideshow": {
       "slide_type": "subslide"
      }
     },
     "outputs": [
      {
       "output_type": "stream",
       "stream": "stdout",
       "text": [
        "Help on function sent_tokenize in module nltk.tokenize:\n",
        "\n",
        "sent_tokenize(text)\n",
        "    Return a sentence-tokenized copy of *text*,\n",
        "    using NLTK's recommended sentence tokenizer\n",
        "    (currently :class:`.PunktSentenceTokenizer`).\n",
        "\n"
       ]
      }
     ],
     "prompt_number": 18
    },
    {
     "cell_type": "code",
     "collapsed": false,
     "input": [
      "#note that this requires you to install the \"punkt\" module by invoking nltk.download()\n",
      "sent = nltk.sent_tokenize(text)\n",
      "print \"Found %d sentences\"%len(sent)\n",
      "print \"E.g. sentence #22 \\n\\t'\",sent[22],\"'\""
     ],
     "language": "python",
     "metadata": {
      "internals": {
       "frag_helper": "fragment_end",
       "frag_number": 36,
       "slide_helper": "subslide_end"
      },
      "slide_helper": "subslide_end",
      "slideshow": {
       "slide_type": "fragment"
      }
     },
     "outputs": [
      {
       "output_type": "stream",
       "stream": "stdout",
       "text": [
        "Found 801 sentences\n",
        "E.g. sentence #22 \n",
        "\t' For our language\n",
        "processing, we want to break up the string into\n",
        "words and punctuation, as we saw in 1.. '\n"
       ]
      }
     ],
     "prompt_number": 19
    },
    {
     "cell_type": "code",
     "collapsed": false,
     "input": [
      " help(nltk.word_tokenize)"
     ],
     "language": "python",
     "metadata": {
      "internals": {
       "frag_helper": "fragment_end",
       "frag_number": 36,
       "slide_type": "subslide"
      },
      "slideshow": {
       "slide_type": "subslide"
      }
     },
     "outputs": [
      {
       "output_type": "stream",
       "stream": "stdout",
       "text": [
        "Help on function word_tokenize in module nltk.tokenize:\n",
        "\n",
        "word_tokenize(text)\n",
        "    Return a tokenized copy of *text*,\n",
        "    using NLTK's recommended word tokenizer\n",
        "    (currently :class:`.TreebankWordTokenizer`\n",
        "    along with :class:`.PunktSentenceTokenizer`).\n",
        "\n"
       ]
      }
     ],
     "prompt_number": 20
    },
    {
     "cell_type": "code",
     "collapsed": false,
     "input": [
      "tokens = nltk.word_tokenize(text)\n",
      "for t in tokens[:20]:\n",
      "    print t"
     ],
     "language": "python",
     "metadata": {
      "internals": {
       "frag_helper": "fragment_end",
       "frag_number": 38,
       "slide_helper": "subslide_end"
      },
      "slide_helper": "subslide_end",
      "slideshow": {
       "slide_type": "fragment"
      }
     },
     "outputs": [
      {
       "output_type": "stream",
       "stream": "stdout",
       "text": [
        "..\n",
        "-*-\n",
        "mode\n",
        ":\n",
        "System\n",
        "Message\n",
        ":\n",
        "WARNING/2\n",
        "(\n",
        "ch03.rst2\n",
        ",\n",
        "line\n",
        "1\n",
        ")\n",
        ";\n",
        "backlink\n",
        "Inline\n",
        "emphasis\n",
        "start-string\n",
        "without\n"
       ]
      }
     ],
     "prompt_number": 21
    },
    {
     "cell_type": "heading",
     "level": 3,
     "metadata": {
      "heading_collapsed": false,
      "internals": {
       "frag_helper": "fragment_end",
       "frag_number": 38,
       "slide_type": "subslide"
      },
      "slideshow": {
       "slide_type": "subslide"
      }
     },
     "source": [
      "Step 3a: Normalization"
     ]
    },
    {
     "cell_type": "markdown",
     "metadata": {
      "internals": {
       "frag_helper": "fragment_end",
       "frag_number": 40,
       "slide_helper": "subslide_end"
      },
      "slide_helper": "subslide_end",
      "slideshow": {
       "slide_type": "fragment"
      }
     },
     "source": [
      "Normalization refers to the process of reducing the different syntactic representation of words to the same normalized form. It includes the following steps (non exhaustive):\n",
      "\n",
      "- **Case folding** - lower/upper-case characters should not distinguish words\n",
      "- **Stemming** - reducing words to their word form by usually stripping away affixes (e.g. plural 's' or 'ing' in english). Affixes are morphemes at the beginning, middle and end of a word.\n",
      "- **Lemmatisation** - process of grouping togehter different inflected forms of a word to their common root aka lemma. Different to stemming, lemmatisation takes the context/meaning of a word into account.\n",
      "- **Orhtographic representation of non-standard words** - convert every number to 0.0 and every acronym to AAA for keeping the vocabulary small\n",
      "\n"
     ]
    },
    {
     "cell_type": "code",
     "collapsed": false,
     "input": [
      "#case folding \n",
      "tokens_folded = [t.lower() for t in tokens]\n",
      "print \"Folded\"\n",
      "print tokens_folded[:10]\n",
      "print \"Unfolded:\"\n",
      "print tokens[:10]"
     ],
     "language": "python",
     "metadata": {
      "internals": {
       "frag_helper": "fragment_end",
       "frag_number": 40,
       "slide_type": "subslide"
      },
      "slideshow": {
       "slide_type": "subslide"
      }
     },
     "outputs": [
      {
       "output_type": "stream",
       "stream": "stdout",
       "text": [
        "Folded\n",
        "[u'..', u'-*-', u'mode', u':', u'system', u'message', u':', u'warning/2', u'(', u'ch03.rst2']\n",
        "Unfolded:\n",
        "[u'..', u'-*-', u'mode', u':', u'System', u'Message', u':', u'WARNING/2', u'(', u'ch03.rst2']\n"
       ]
      }
     ],
     "prompt_number": 25
    },
    {
     "cell_type": "code",
     "collapsed": false,
     "input": [
      "#Stemming using the well-known Porter Stemmer which is a rule-based affix stripper.\n",
      "#Stemming is language dependent and hence the Porter STemmer only works for english\n",
      "porter = nltk.PorterStemmer()\n",
      "stemmed = [porter.stem(t) for t in tokens]\n",
      "print \"Stemmed\\t\\t\\tOriginal\",t\n",
      "for s,t in zip(stemmed[100:200],tokens[100:200]):\n",
      "    print s,\"\\t\\t\\t\",t"
     ],
     "language": "python",
     "metadata": {
      "internals": {
       "frag_helper": "fragment_end",
       "frag_number": 42
      },
      "slideshow": {
       "slide_type": "fragment"
      }
     },
     "outputs": [
      {
       "output_type": "stream",
       "stream": "stdout",
       "text": [
        "Stemmed\t\t\tOriginal .\n",
        "Howev \t\t\tHowever\n",
        ", \t\t\t,\n",
        "you \t\t\tyou\n",
        "probabl \t\t\tprobably\n",
        "have \t\t\thave\n",
        "your \t\t\tyour\n",
        "own \t\t\town\n",
        "text \t\t\ttext\n",
        "sourc \t\t\tsources\n",
        "in \t\t\tin\n",
        "mind \t\t\tmind\n",
        ", \t\t\t,\n",
        "and \t\t\tand\n",
        "need \t\t\tneed\n",
        "to \t\t\tto\n",
        "learn \t\t\tlearn\n",
        "how \t\t\thow\n",
        "to \t\t\tto\n",
        "access \t\t\taccess\n",
        "them \t\t\tthem\n",
        ". \t\t\t.\n",
        "The \t\t\tThe\n",
        "goal \t\t\tgoal\n",
        "of \t\t\tof\n",
        "thi \t\t\tthis\n",
        "chapter \t\t\tchapter\n",
        "is \t\t\tis\n",
        "to \t\t\tto\n",
        "answer \t\t\tanswer\n",
        "the \t\t\tthe\n",
        "follow \t\t\tfollowing\n",
        "question \t\t\tquestions\n",
        ": \t\t\t:\n",
        "How \t\t\tHow\n",
        "can \t\t\tcan\n",
        "we \t\t\twe\n",
        "write \t\t\twrite\n",
        "program \t\t\tprograms\n",
        "to \t\t\tto\n",
        "access \t\t\taccess\n",
        "text \t\t\ttext\n",
        "from \t\t\tfrom\n",
        "local \t\t\tlocal\n",
        "file \t\t\tfiles\n",
        "and \t\t\tand\n",
        "from \t\t\tfrom\n",
        "the \t\t\tthe\n",
        "web \t\t\tweb\n",
        ", \t\t\t,\n",
        "in \t\t\tin\n",
        "order \t\t\torder\n",
        "to \t\t\tto\n",
        "get \t\t\tget\n",
        "hold \t\t\thold\n",
        "of \t\t\tof\n",
        "an \t\t\tan\n",
        "unlimit \t\t\tunlimited\n",
        "rang \t\t\trange\n",
        "of \t\t\tof\n",
        "languag \t\t\tlanguage\n",
        "materi \t\t\tmaterial\n",
        "? \t\t\t?\n",
        "How \t\t\tHow\n",
        "can \t\t\tcan\n",
        "we \t\t\twe\n",
        "split \t\t\tsplit\n",
        "document \t\t\tdocuments\n",
        "up \t\t\tup\n",
        "into \t\t\tinto\n",
        "individu \t\t\tindividual\n",
        "word \t\t\twords\n",
        "and \t\t\tand\n",
        "punctuat \t\t\tpunctuation\n",
        "symbol \t\t\tsymbols\n",
        ", \t\t\t,\n",
        "so \t\t\tso\n",
        "we \t\t\twe\n",
        "can \t\t\tcan\n",
        "carri \t\t\tcarry\n",
        "out \t\t\tout\n",
        "the \t\t\tthe\n",
        "same \t\t\tsame\n",
        "kind \t\t\tkinds\n",
        "of \t\t\tof\n",
        "analysi \t\t\tanalysis\n",
        "we \t\t\twe\n",
        "did \t\t\tdid\n",
        "with \t\t\twith\n",
        "text \t\t\ttext\n",
        "corpora \t\t\tcorpora\n",
        "in \t\t\tin\n",
        "earlier \t\t\tearlier\n",
        "chapter \t\t\tchapters\n",
        "? \t\t\t?\n",
        "How \t\t\tHow\n",
        "can \t\t\tcan\n",
        "we \t\t\twe\n",
        "write \t\t\twrite\n",
        "program \t\t\tprograms\n",
        "to \t\t\tto\n"
       ]
      }
     ],
     "prompt_number": 26
    },
    {
     "cell_type": "code",
     "collapsed": false,
     "input": [
      "#Lemmatization usually requires some linguistic resource that contains a list of lemmas\n",
      "#again language dependent.\n",
      "#WordNet is a thesaurus providing this kind of information.\n",
      "wnl = nltk.WordNetLemmatizer()\n",
      "lemmas = [wnl.lemmatize(t) for t in tokens]\n",
      "print \"Lemma\\t\\tStemmed\\t\\tOriginal\",t\n",
      "for l,s,t in zip(lemmas[100:200], stemmed[100:200],tokens[100:200]):\n",
      "    print l,\"\\t\\t\",s,\"\\t\\t\",t"
     ],
     "language": "python",
     "metadata": {
      "internals": {
       "frag_helper": "fragment_end",
       "frag_number": 43
      },
      "slideshow": {
       "slide_type": "fragment"
      }
     },
     "outputs": [
      {
       "ename": "LookupError",
       "evalue": "\n**********************************************************************\n  Resource u'corpora/wordnet' not found.  Please use the NLTK\n  Downloader to obtain the resource:  >>> nltk.download()\n  Searched in:\n    - '/Users/mgrani/nltk_data'\n    - '/usr/share/nltk_data'\n    - '/usr/local/share/nltk_data'\n    - '/usr/lib/nltk_data'\n    - '/usr/local/lib/nltk_data'\n**********************************************************************",
       "output_type": "pyerr",
       "traceback": [
        "\u001b[0;31m---------------------------------------------------------------------------\u001b[0m\n\u001b[0;31mLookupError\u001b[0m                               Traceback (most recent call last)",
        "\u001b[0;32m<ipython-input-27-3c05bc131dce>\u001b[0m in \u001b[0;36m<module>\u001b[0;34m()\u001b[0m\n\u001b[1;32m      3\u001b[0m \u001b[0;31m#WordNet is a thesaurus providing this kind of information.\u001b[0m\u001b[0;34m\u001b[0m\u001b[0;34m\u001b[0m\u001b[0m\n\u001b[1;32m      4\u001b[0m \u001b[0mwnl\u001b[0m \u001b[0;34m=\u001b[0m \u001b[0mnltk\u001b[0m\u001b[0;34m.\u001b[0m\u001b[0mWordNetLemmatizer\u001b[0m\u001b[0;34m(\u001b[0m\u001b[0;34m)\u001b[0m\u001b[0;34m\u001b[0m\u001b[0m\n\u001b[0;32m----> 5\u001b[0;31m \u001b[0mlemmas\u001b[0m \u001b[0;34m=\u001b[0m \u001b[0;34m[\u001b[0m\u001b[0mwnl\u001b[0m\u001b[0;34m.\u001b[0m\u001b[0mlemmatize\u001b[0m\u001b[0;34m(\u001b[0m\u001b[0mt\u001b[0m\u001b[0;34m)\u001b[0m \u001b[0;32mfor\u001b[0m \u001b[0mt\u001b[0m \u001b[0;32min\u001b[0m \u001b[0mtokens\u001b[0m\u001b[0;34m]\u001b[0m\u001b[0;34m\u001b[0m\u001b[0m\n\u001b[0m\u001b[1;32m      6\u001b[0m \u001b[0;32mprint\u001b[0m \u001b[0;34m\"Lemma\\t\\tStemmed\\t\\tOriginal\"\u001b[0m\u001b[0;34m,\u001b[0m\u001b[0mt\u001b[0m\u001b[0;34m\u001b[0m\u001b[0m\n\u001b[1;32m      7\u001b[0m \u001b[0;32mfor\u001b[0m \u001b[0ml\u001b[0m\u001b[0;34m,\u001b[0m\u001b[0ms\u001b[0m\u001b[0;34m,\u001b[0m\u001b[0mt\u001b[0m \u001b[0;32min\u001b[0m \u001b[0mzip\u001b[0m\u001b[0;34m(\u001b[0m\u001b[0mlemmas\u001b[0m\u001b[0;34m[\u001b[0m\u001b[0;36m100\u001b[0m\u001b[0;34m:\u001b[0m\u001b[0;36m200\u001b[0m\u001b[0;34m]\u001b[0m\u001b[0;34m,\u001b[0m \u001b[0mstemmed\u001b[0m\u001b[0;34m[\u001b[0m\u001b[0;36m100\u001b[0m\u001b[0;34m:\u001b[0m\u001b[0;36m200\u001b[0m\u001b[0;34m]\u001b[0m\u001b[0;34m,\u001b[0m\u001b[0mtokens\u001b[0m\u001b[0;34m[\u001b[0m\u001b[0;36m100\u001b[0m\u001b[0;34m:\u001b[0m\u001b[0;36m200\u001b[0m\u001b[0;34m]\u001b[0m\u001b[0;34m)\u001b[0m\u001b[0;34m:\u001b[0m\u001b[0;34m\u001b[0m\u001b[0m\n",
        "\u001b[0;32m/opt/local/Library/Frameworks/Python.framework/Versions/2.7/lib/python2.7/site-packages/nltk/stem/wordnet.pyc\u001b[0m in \u001b[0;36mlemmatize\u001b[0;34m(self, word, pos)\u001b[0m\n\u001b[1;32m     38\u001b[0m \u001b[0;34m\u001b[0m\u001b[0m\n\u001b[1;32m     39\u001b[0m     \u001b[0;32mdef\u001b[0m \u001b[0mlemmatize\u001b[0m\u001b[0;34m(\u001b[0m\u001b[0mself\u001b[0m\u001b[0;34m,\u001b[0m \u001b[0mword\u001b[0m\u001b[0;34m,\u001b[0m \u001b[0mpos\u001b[0m\u001b[0;34m=\u001b[0m\u001b[0mNOUN\u001b[0m\u001b[0;34m)\u001b[0m\u001b[0;34m:\u001b[0m\u001b[0;34m\u001b[0m\u001b[0m\n\u001b[0;32m---> 40\u001b[0;31m         \u001b[0mlemmas\u001b[0m \u001b[0;34m=\u001b[0m \u001b[0mwordnet\u001b[0m\u001b[0;34m.\u001b[0m\u001b[0m_morphy\u001b[0m\u001b[0;34m(\u001b[0m\u001b[0mword\u001b[0m\u001b[0;34m,\u001b[0m \u001b[0mpos\u001b[0m\u001b[0;34m)\u001b[0m\u001b[0;34m\u001b[0m\u001b[0m\n\u001b[0m\u001b[1;32m     41\u001b[0m         \u001b[0;32mreturn\u001b[0m \u001b[0mmin\u001b[0m\u001b[0;34m(\u001b[0m\u001b[0mlemmas\u001b[0m\u001b[0;34m,\u001b[0m \u001b[0mkey\u001b[0m\u001b[0;34m=\u001b[0m\u001b[0mlen\u001b[0m\u001b[0;34m)\u001b[0m \u001b[0;32mif\u001b[0m \u001b[0mlemmas\u001b[0m \u001b[0;32melse\u001b[0m \u001b[0mword\u001b[0m\u001b[0;34m\u001b[0m\u001b[0m\n\u001b[1;32m     42\u001b[0m \u001b[0;34m\u001b[0m\u001b[0m\n",
        "\u001b[0;32m/opt/local/Library/Frameworks/Python.framework/Versions/2.7/lib/python2.7/site-packages/nltk/corpus/util.pyc\u001b[0m in \u001b[0;36m__getattr__\u001b[0;34m(self, attr)\u001b[0m\n\u001b[1;32m     97\u001b[0m             \u001b[0;32mraise\u001b[0m \u001b[0mAttributeError\u001b[0m\u001b[0;34m(\u001b[0m\u001b[0;34m\"LazyCorpusLoader object has no attribute '__bases__'\"\u001b[0m\u001b[0;34m)\u001b[0m\u001b[0;34m\u001b[0m\u001b[0m\n\u001b[1;32m     98\u001b[0m \u001b[0;34m\u001b[0m\u001b[0m\n\u001b[0;32m---> 99\u001b[0;31m         \u001b[0mself\u001b[0m\u001b[0;34m.\u001b[0m\u001b[0m__load\u001b[0m\u001b[0;34m(\u001b[0m\u001b[0;34m)\u001b[0m\u001b[0;34m\u001b[0m\u001b[0m\n\u001b[0m\u001b[1;32m    100\u001b[0m         \u001b[0;31m# This looks circular, but its not, since __load() changes our\u001b[0m\u001b[0;34m\u001b[0m\u001b[0;34m\u001b[0m\u001b[0m\n\u001b[1;32m    101\u001b[0m         \u001b[0;31m# __class__ to something new:\u001b[0m\u001b[0;34m\u001b[0m\u001b[0;34m\u001b[0m\u001b[0m\n",
        "\u001b[0;32m/opt/local/Library/Frameworks/Python.framework/Versions/2.7/lib/python2.7/site-packages/nltk/corpus/util.pyc\u001b[0m in \u001b[0;36m__load\u001b[0;34m(self)\u001b[0m\n\u001b[1;32m     62\u001b[0m             \u001b[0;32mexcept\u001b[0m \u001b[0mLookupError\u001b[0m \u001b[0;32mas\u001b[0m \u001b[0me\u001b[0m\u001b[0;34m:\u001b[0m\u001b[0;34m\u001b[0m\u001b[0m\n\u001b[1;32m     63\u001b[0m                 \u001b[0;32mtry\u001b[0m\u001b[0;34m:\u001b[0m \u001b[0mroot\u001b[0m \u001b[0;34m=\u001b[0m \u001b[0mnltk\u001b[0m\u001b[0;34m.\u001b[0m\u001b[0mdata\u001b[0m\u001b[0;34m.\u001b[0m\u001b[0mfind\u001b[0m\u001b[0;34m(\u001b[0m\u001b[0;34m'corpora/%s'\u001b[0m \u001b[0;34m%\u001b[0m \u001b[0mzip_name\u001b[0m\u001b[0;34m)\u001b[0m\u001b[0;34m\u001b[0m\u001b[0m\n\u001b[0;32m---> 64\u001b[0;31m                 \u001b[0;32mexcept\u001b[0m \u001b[0mLookupError\u001b[0m\u001b[0;34m:\u001b[0m \u001b[0;32mraise\u001b[0m \u001b[0me\u001b[0m\u001b[0;34m\u001b[0m\u001b[0m\n\u001b[0m\u001b[1;32m     65\u001b[0m \u001b[0;34m\u001b[0m\u001b[0m\n\u001b[1;32m     66\u001b[0m         \u001b[0;31m# Load the corpus.\u001b[0m\u001b[0;34m\u001b[0m\u001b[0;34m\u001b[0m\u001b[0m\n",
        "\u001b[0;31mLookupError\u001b[0m: \n**********************************************************************\n  Resource u'corpora/wordnet' not found.  Please use the NLTK\n  Downloader to obtain the resource:  >>> nltk.download()\n  Searched in:\n    - '/Users/mgrani/nltk_data'\n    - '/usr/share/nltk_data'\n    - '/usr/local/share/nltk_data'\n    - '/usr/lib/nltk_data'\n    - '/usr/local/lib/nltk_data'\n**********************************************************************"
       ]
      }
     ],
     "prompt_number": 27
    },
    {
     "cell_type": "code",
     "collapsed": false,
     "input": [
      "nltk.download()"
     ],
     "language": "python",
     "metadata": {
      "internals": {
       "frag_helper": "fragment_end",
       "frag_number": 43,
       "slide_helper": "subslide_end"
      },
      "slide_helper": "subslide_end",
      "slideshow": {
       "slide_type": "-"
      }
     },
     "outputs": [
      {
       "output_type": "stream",
       "stream": "stdout",
       "text": [
        "showing info http://nltk.github.com/nltk_data/\n"
       ]
      },
      {
       "metadata": {},
       "output_type": "pyout",
       "prompt_number": 2,
       "text": [
        "True"
       ]
      }
     ],
     "prompt_number": 2
    },
    {
     "cell_type": "heading",
     "level": 3,
     "metadata": {
      "heading_collapsed": false,
      "internals": {
       "frag_helper": "fragment_end",
       "frag_number": 43,
       "slide_type": "subslide"
      },
      "slideshow": {
       "slide_type": "subslide"
      }
     },
     "source": [
      "Step 3b: Tagging"
     ]
    },
    {
     "cell_type": "markdown",
     "metadata": {
      "internals": {
       "frag_helper": "fragment_end",
       "frag_number": 46
      },
      "slideshow": {
       "slide_type": "fragment"
      }
     },
     "source": [
      "Tagging refers to the process of adding (semantic) information to a token for later use. For example, a retrieval engine is not interested in so called \"Stopwords\" (and, or, it) and want to tag tokens falling into the stop word category.\n",
      "\n",
      "The most common tagging is \"Part of speech\" tagging, where every word is assigned to its word class/lexical category. This is a prerequisit for more complex analysis like information extraction. "
     ]
    },
    {
     "cell_type": "code",
     "collapsed": false,
     "input": [
      "#python example.\n",
      "# note that for using the tagger you need to download the maxent_treebank_pos_tagger  model  using nltk.download()\n",
      "text = nltk.word_tokenize(\"And now for something completely\"\\\n",
      "                          \" different\")\n",
      "nltk.pos_tag(text)"
     ],
     "language": "python",
     "metadata": {
      "internals": {
       "frag_helper": "fragment_end",
       "frag_number": 47
      },
      "slideshow": {
       "slide_type": "fragment"
      }
     },
     "outputs": [
      {
       "metadata": {},
       "output_type": "pyout",
       "prompt_number": 29,
       "text": [
        "[('And', 'CC'),\n",
        " ('now', 'RB'),\n",
        " ('for', 'IN'),\n",
        " ('something', 'NN'),\n",
        " ('completely', 'RB'),\n",
        " ('different', 'JJ')]"
       ]
      }
     ],
     "prompt_number": 29
    },
    {
     "cell_type": "code",
     "collapsed": false,
     "input": [
      "#an example with a homonym: equal reprenstation (homo), but different meaning \n",
      "text = nltk.word_tokenize(\"They refuse to permit us to obtain the refuse permit\")\n",
      "nltk.pos_tag(text)"
     ],
     "language": "python",
     "metadata": {
      "internals": {
       "frag_helper": "fragment_end",
       "frag_number": 47,
       "slide_helper": "subslide_end"
      },
      "slide_helper": "subslide_end",
      "slideshow": {
       "slide_type": "-"
      }
     },
     "outputs": [
      {
       "metadata": {},
       "output_type": "pyout",
       "prompt_number": 22,
       "text": [
        "[('They', 'PRP'),\n",
        " ('refuse', 'VBP'),\n",
        " ('to', 'TO'),\n",
        " ('permit', 'VB'),\n",
        " ('us', 'PRP'),\n",
        " ('to', 'TO'),\n",
        " ('obtain', 'VB'),\n",
        " ('the', 'DT'),\n",
        " ('refuse', 'NN'),\n",
        " ('permit', 'NN')]"
       ]
      }
     ],
     "prompt_number": 22
    },
    {
     "cell_type": "markdown",
     "metadata": {
      "internals": {
       "frag_helper": "fragment_end",
       "frag_number": 47,
       "slide_helper": "subslide_end",
       "slide_type": "subslide"
      },
      "slide_helper": "subslide_end",
      "slideshow": {
       "slide_type": "subslide"
      }
     },
     "source": [
      "#### Tag Sets\n",
      "\n",
      "Assigned tags follow often some linugistic standards. In english it is usually the [Penn-Treebank Tag set](https://www.ling.upenn.edu/courses/Fall_2003/ling001/penn_treebank_pos.html) and in German the [Stuttgart Tuebingen Tag Set (STTS)](http://www.ims.uni-stuttgart.de/forschung/ressourcen/lexika/TagSets/stts-table.html).\n",
      "\n",
      "The used tag set usually depends on the corpora on which a part-of-speech tagger has been build from (more on corporas later). Although most tag sets provide higher complexity, the following basic classes can be distinguished universally:\n",
      "\n",
      "\n",
      "\n",
      "|Tag \t|Meaning \t|English Examples|\n",
      "|-|-|-|\n",
      "|ADJ \t|adjective \t|new, good, high, special, big, local|\n",
      "|ADP \t|adposition \t|on, of, at, with, by, into, under|\n",
      "|ADV \t|adverb \t|really, already, still, early, now|\n",
      "|CONJ \t|conjunction \t|and, or, but, if, while, although|\n",
      "|DET \t|determiner, article \t|the, a, some, most, every, no, which|\n",
      "|NOUN \t|noun \t|year, home, costs, time, Africa|\n",
      "|NUM \t|numeral \t|twenty-four, fourth, 1991, 14:24|\n",
      "|PRT \t|particle \t|at, on, out, over per, that, up, with|\n",
      "|PRON \t|pronoun \t|he, their, her, its, my, I, us|\n",
      "|VERB \t|verb \t|is, say, told, given, playing, would|\n",
      "|. \t|punctuation |marks \t. , ; !|\n",
      "|X \t|other \t|ersatz, esprit, dunno, gr8, univeristy|"
     ]
    },
    {
     "cell_type": "heading",
     "level": 3,
     "metadata": {
      "heading_collapsed": false,
      "internals": {
       "frag_helper": "fragment_end",
       "frag_number": 47,
       "slide_type": "subslide"
      },
      "slideshow": {
       "slide_type": "subslide"
      }
     },
     "source": [
      "Step 4: Extracting the Vocabulary"
     ]
    },
    {
     "cell_type": "markdown",
     "metadata": {
      "internals": {
       "frag_helper": "fragment_end",
       "frag_number": 51
      },
      "slideshow": {
       "slide_type": "fragment"
      }
     },
     "source": [
      "Extracting the vocabulary is relevant in order to obtain statistical information on word usage, to build up indices for search engines or for corpus linguistic studies."
     ]
    },
    {
     "cell_type": "code",
     "collapsed": false,
     "input": [
      "#creating a vocabulary is simple\n",
      "vocab_tokens = sorted(set(tokens))\n",
      "vocab_stemmed = sorted(set(stemmed))\n",
      "print len(vocab_tokens), \" vs. stemmed \",len(vocab_stemmed)\n",
      "print \"Reduction through stemming: %f %%\"%(100.0-len(vocab_stemmed)*100.0/len(vocab_tokens))"
     ],
     "language": "python",
     "metadata": {
      "internals": {
       "frag_helper": "fragment_end",
       "frag_number": 52,
       "slide_helper": "subslide_end"
      },
      "slide_helper": "subslide_end",
      "slideshow": {
       "slide_type": "fragment"
      }
     },
     "outputs": [
      {
       "output_type": "stream",
       "stream": "stdout",
       "text": [
        "3915  vs. stemmed  3287\n",
        "Reduction through stemming: 16.040868 %\n"
       ]
      }
     ],
     "prompt_number": 23
    },
    {
     "cell_type": "code",
     "collapsed": false,
     "input": [
      "from collections import Counter\n",
      "vocab = Counter(tokens)\n",
      "\n",
      "print \"\\nCommon tokens\"\n",
      "print vocab.most_common(40)\n",
      "vocab = Counter(stemmed)\n",
      "\n",
      "print \"\\nCommon stemmed tokens\"\n",
      "print vocab.most_common(40)\n",
      "\n",
      "print \"\\nMost different words\"\n",
      "diff = Counter(stemmed)\n",
      "diff.subtract(Counter(tokens))\n",
      "print diff.most_common(20)"
     ],
     "language": "python",
     "metadata": {
      "internals": {
       "frag_helper": "fragment_end",
       "frag_number": 52,
       "slide_helper": "subslide_end",
       "slide_type": "subslide"
      },
      "slide_helper": "slide_end",
      "slideshow": {
       "slide_type": "subslide"
      }
     },
     "outputs": [
      {
       "output_type": "stream",
       "stream": "stdout",
       "text": [
        "\n",
        "Common tokens\n",
        "[(u',', 1850), (u\"'\", 1244), (u'>', 992), (u'the', 790), (u'.', 741), (u'(', 719), (u')', 718), (u'a', 505), (u'of', 436), (u'to', 398), (u'and', 326), (u':', 324), (u'in', 287), (u'[', 244), (u']', 244), (u'is', 207), (u'we', 203), (u'for', 190), (u\"''\", 183), (u'that', 171), (u'=', 163), (u'text', 154), (u'``', 129), (u'can', 127), (u';', 125), (u'string', 119), (u'words', 119), (u'as', 118), (u'this', 107), (u'with', 103), (u'word', 102), (u'are', 101), (u'it', 89), (u'The', 88), (u'you', 83), (u'using', 82), (u'...', 82), (u'or', 81), (u'from', 80), (u\"'s\", 79)]\n",
        "\n",
        "Common stemmed tokens\n",
        "[(u',', 1850), (u\"'\", 1244), (u'>', 992), (u'the', 790), (u'.', 741), (u'(', 719), (u')', 718), (u'a', 505), (u'of', 436), (u'to', 398), (u'and', 326), (u':', 324), (u'in', 287), (u'[', 244), (u']', 244), (u'word', 221), (u'is', 207), (u'we', 203), (u'for', 190), (u'use', 188), (u\"''\", 183), (u'string', 183), (u'that', 171), (u'text', 170), (u'=', 163), (u'``', 129), (u'can', 127), (u';', 125), (u'it', 120), (u'as', 118), (u'charact', 116), (u'thi', 107), (u'with', 103), (u'are', 101), (u'The', 88), (u'express', 87), (u'be', 84), (u'you', 83), (u'...', 82), (u'or', 81)]\n",
        "\n",
        "Most different words\n",
        "[(u'word', 119), (u'use', 117), (u'charact', 116), (u'thi', 107), (u'express', 87), (u'token', 70), (u'string', 64), (u'exampl', 48), (u'follow', 43), (u'ani', 42), (u'includ', 39), (u'Unicod', 33), (u'Thi', 32), (u'it', 31), (u'match', 29), (u'monti', 28), (u'contain', 26), (u'sequenc', 25), (u're.findal', 24), (u'oper', 23)]"
       ]
      },
      {
       "output_type": "stream",
       "stream": "stdout",
       "text": [
        "\n"
       ]
      }
     ],
     "prompt_number": 24
    },
    {
     "cell_type": "heading",
     "level": 1,
     "metadata": {
      "heading_collapsed": false,
      "internals": {
       "frag_helper": "fragment_end",
       "frag_number": 52,
       "slide_type": "subslide"
      },
      "slideshow": {
       "slide_type": "slide"
      }
     },
     "source": [
      "Analysing Text using NLTK"
     ]
    },
    {
     "cell_type": "markdown",
     "metadata": {
      "internals": {
       "frag_helper": "fragment_end",
       "frag_number": 55,
       "slide_helper": "subslide_end"
      },
      "slide_helper": "subslide_end",
      "slideshow": {
       "slide_type": "fragment"
      }
     },
     "source": [
      "Given a set of texts, our main interest consists in finding interesting patterns that could be exploited in our application.\n",
      "\n",
      "Two main approaches can be distinguished for analysing text:\n",
      "\n",
      "1. Quantiative, statistical analysis\n",
      "2. Qualitative analysis by introspection of text parts"
     ]
    },
    {
     "cell_type": "heading",
     "level": 2,
     "metadata": {
      "heading_collapsed": false,
      "internals": {
       "frag_helper": "fragment_end",
       "frag_number": 55,
       "slide_type": "subslide"
      },
      "slideshow": {
       "slide_type": "subslide"
      }
     },
     "source": [
      "Statistical Analysis of Text"
     ]
    },
    {
     "cell_type": "markdown",
     "metadata": {
      "internals": {
       "frag_helper": "fragment_end",
       "frag_number": 57
      },
      "slideshow": {
       "slide_type": "fragment"
      }
     },
     "source": [
      "The most basic analysis is a frequency analysis, i.e. counting how often a word occurs. \n",
      "\n",
      "NLTK offers the `FreqDist` class therefore."
     ]
    },
    {
     "cell_type": "code",
     "collapsed": false,
     "input": [
      "fdist = nltk.FreqDist(stemmed)\n",
      "fdist.most_common()[-10:]"
     ],
     "language": "python",
     "metadata": {
      "internals": {
       "frag_helper": "fragment_end",
       "frag_number": 58,
       "slide_helper": "subslide_end"
      },
      "slide_helper": "subslide_end",
      "slideshow": {
       "slide_type": "fragment"
      }
     },
     "outputs": [
      {
       "metadata": {},
       "output_type": "pyout",
       "prompt_number": 40,
       "text": [
        "[(u\"'0.1\", 1),\n",
        " (u'Non-Determinist', 1),\n",
        " (u\"'0.9\", 1),\n",
        " (u'scientif', 1),\n",
        " (u'reliabl', 1),\n",
        " (u'jewel', 1),\n",
        " (u'indirectli', 1),\n",
        " (u\"'black-and-whit\", 1),\n",
        " (u'Unlik', 1),\n",
        " (u'476', 1)]"
       ]
      }
     ],
     "prompt_number": 40
    },
    {
     "cell_type": "code",
     "collapsed": false,
     "input": [
      "#display the 10 most frequent items as tabluar structure\n",
      "fdist.tabulate(10)\n",
      "#print a single item\n",
      "print \"Number of occurrneces of the \",fdist[\"the\"]"
     ],
     "language": "python",
     "metadata": {
      "internals": {
       "frag_helper": "fragment_end",
       "frag_number": 58,
       "slide_type": "subslide"
      },
      "slideshow": {
       "slide_type": "subslide"
      }
     },
     "outputs": [
      {
       "output_type": "stream",
       "stream": "stdout",
       "text": [
        "   ,    '    >  the    .    (    )    a   of   to \n",
        "1850 1244  992  790  741  719  718  505  436  398 \n",
        "Number of occurrneces of the  790\n"
       ]
      }
     ],
     "prompt_number": 51
    },
    {
     "cell_type": "code",
     "collapsed": false,
     "input": [
      "#counting the lenght of words\n",
      "fd = nltk.FreqDist([len(s) for s in stemmed])\n",
      "fd.tabulate(10)"
     ],
     "language": "python",
     "metadata": {
      "internals": {
       "frag_helper": "fragment_end",
       "frag_number": 60
      },
      "slideshow": {
       "slide_type": "fragment"
      }
     },
     "outputs": [
      {
       "output_type": "stream",
       "stream": "stdout",
       "text": [
        "The history saving thread hit an unexpected error (OperationalError('attempt to write a readonly database',)).History will not be written to the database.\n",
        "   1    3    4    2    5    6    7    8    9   10 \n",
        "8894 3585 3366 3358 2175 1890 1440  543  338  201 \n"
       ]
      }
     ],
     "prompt_number": 164
    },
    {
     "cell_type": "code",
     "collapsed": false,
     "input": [
      "#counting the lenght of words\n",
      "fd = nltk.FreqDist([len(s) for s in stemmed if len(s)>5])\n",
      "fd.tabulate(10)"
     ],
     "language": "python",
     "metadata": {
      "internals": {
       "frag_helper": "fragment_end",
       "frag_number": 61,
       "slide_helper": "subslide_end"
      },
      "slide_helper": "subslide_end",
      "slideshow": {
       "slide_type": "fragment"
      }
     },
     "outputs": [
      {
       "output_type": "stream",
       "stream": "stdout",
       "text": [
        "   6    7    8    9   10   11   12   13   15   14 \n",
        "1890 1440  543  338  201   75   51   51   34   30 \n"
       ]
      }
     ],
     "prompt_number": 55
    },
    {
     "cell_type": "code",
     "collapsed": false,
     "input": [
      "%pylab inline\n",
      "fd.plot()"
     ],
     "language": "python",
     "metadata": {
      "internals": {
       "frag_helper": "fragment_end",
       "frag_number": 61,
       "slide_type": "subslide"
      },
      "slideshow": {
       "slide_type": "subslide"
      }
     },
     "outputs": [
      {
       "output_type": "stream",
       "stream": "stdout",
       "text": [
        "Populating the interactive namespace from numpy and matplotlib\n"
       ]
      },
      {
       "metadata": {},
       "output_type": "display_data",
       "png": "[encoded data removed]",
       "text": [
        "<matplotlib.figure.Figure at 0x11e5c77d0>"
       ]
      }
     ],
     "prompt_number": 58
    },
    {
     "cell_type": "code",
     "collapsed": false,
     "input": [
      "fdist.plot(40)"
     ],
     "language": "python",
     "metadata": {
      "internals": {
       "frag_helper": "fragment_end",
       "frag_number": 63,
       "slide_helper": "subslide_end"
      },
      "slide_helper": "subslide_end",
      "slideshow": {
       "slide_type": "fragment"
      }
     },
     "outputs": [
      {
       "metadata": {},
       "output_type": "display_data",
       "png": "[encoded data removed]",
       "text": [
        "<matplotlib.figure.Figure at 0x11f7baf90>"
       ]
      }
     ],
     "prompt_number": 93
    },
    {
     "cell_type": "markdown",
     "metadata": {
      "internals": {
       "frag_helper": "fragment_end",
       "frag_number": 63,
       "slide_helper": "subslide_end",
       "slide_type": "subslide"
      },
      "slide_helper": "slide_end",
      "slideshow": {
       "slide_type": "subslide"
      }
     },
     "source": [
      "**Some frequently occuring `FreqDist` patterns**\n",
      "\n",
      "|Example\t|Description|\n",
      "|-|-|\n",
      "|`fdist = FreqDist(samples)`|\tcreate a frequency distribution containing the given samples|\n",
      "|`fdist[sample] += 1`|\tincrement the count for this sample|\n",
      "|`fdist['monstrous']`|\tcount of the number of times a given sample occurred|\n",
      "|`fdist.freq('monstrous')`|\tfrequency of a given sample|\n",
      "|`fdist.N()`|\ttotal number of samples|\n",
      "|`fdist.most_common(n)`|\tthe n most common samples and their frequencies|\n",
      "|`for sample in fdist:`|\titerate over the samples|\n",
      "|`fdist.max()`|\tsample with the greatest count|\n",
      "|`fdist.tabulate()`|\ttabulate the frequency distribution|\n",
      "|`fdist.plot()`|\tgraphical plot of the frequency distribution|\n",
      "|`fdist.plot(cumulative=True)`|\tcumulative plot of the frequency distribution|\n",
      "|fdist1 I= fdist2|\tupdate fdist1 with counts from fdist2|\n",
      "|`fdist1 < fdist2`|\ttest if samples in fdist1 occur less frequently than in fdist2|"
     ]
    },
    {
     "cell_type": "heading",
     "level": 3,
     "metadata": {
      "heading_collapsed": false,
      "internals": {
       "frag_helper": "fragment_end",
       "frag_number": 63,
       "slide_type": "subslide"
      },
      "slideshow": {
       "slide_type": "slide"
      }
     },
     "source": [
      "Conditional Probabilities"
     ]
    },
    {
     "cell_type": "markdown",
     "metadata": {
      "internals": {
       "frag_helper": "fragment_end",
       "frag_number": 66,
       "slide_helper": "subslide_end"
      },
      "slide_helper": "slide_end",
      "slideshow": {
       "slide_type": "fragment"
      }
     },
     "source": [
      "A conditional probability $P(X|Y)$ denotes how likely an event $X$ is, given that another event \"Y\" already occured. $X$ could be for example a word while $Y$ is the words part-of-speech. \n",
      "\n",
      "It can be estimated by a conditional frequency distribution, i.e. counting how often $x_i\\in X$ occurs given $y_i \\in Y$. In NLTK we can use the class `ConditionalFreqDist`.\n"
     ]
    },
    {
     "cell_type": "markdown",
     "metadata": {
      "internals": {
       "frag_helper": "fragment_end",
       "frag_number": 66,
       "slide_type": "subslide"
      },
      "slideshow": {
       "slide_type": "slide"
      }
     },
     "source": [
      "For example, how frequent are starting characters \"a\", \"b\", \"c\", \"d\" and \"x\" of word compared over words with length 1-10?"
     ]
    },
    {
     "cell_type": "code",
     "collapsed": false,
     "input": [
      "cd_LvsC = nltk.ConditionalFreqDist([ (len(w),w[0]) \n",
      "                              for w in stemmed \\\n",
      "                              if len(w)>0 and len(w)<10 \\\n",
      "                                 and w[0] in [\"a\",\"b\",\"c\",\"d\",\"x\"] ])"
     ],
     "language": "python",
     "metadata": {
      "internals": {
       "frag_helper": "fragment_end",
       "frag_number": 68
      },
      "slideshow": {
       "slide_type": "fragment"
      }
     },
     "outputs": [],
     "prompt_number": 92
    },
    {
     "cell_type": "code",
     "collapsed": false,
     "input": [
      "print \"Conditions are:\", cd_LvsC.conditions()"
     ],
     "language": "python",
     "metadata": {
      "internals": {
       "frag_helper": "fragment_end",
       "frag_number": 69
      },
      "slideshow": {
       "slide_type": "fragment"
      }
     },
     "outputs": [
      {
       "output_type": "stream",
       "stream": "stdout",
       "text": [
        "Conditions are: [1, 2, 3, 4, 5, 6, 7, 8, 9]\n"
       ]
      }
     ],
     "prompt_number": 87
    },
    {
     "cell_type": "code",
     "collapsed": false,
     "input": [
      "cd_LvsC.tabulate()"
     ],
     "language": "python",
     "metadata": {
      "internals": {
       "frag_helper": "fragment_end",
       "frag_number": 70,
       "slide_helper": "subslide_end"
      },
      "slide_helper": "subslide_end",
      "slideshow": {
       "slide_type": "fragment"
      }
     },
     "outputs": [
      {
       "output_type": "stream",
       "stream": "stdout",
       "text": [
        "     a    b    c    d    x \n",
        "1  505    3    6    3    9 \n",
        "2  225  140   10   48    0 \n",
        "3  539   46  133   35    0 \n",
        "4   55   56   96   45    0 \n",
        "5  100   82  123   41    0 \n",
        "6   89   27   48   58    0 \n",
        "7   21   28  307   41    0 \n",
        "8   39   28   36   36    0 \n",
        "9    4    8   30   24    0 \n"
       ]
      }
     ],
     "prompt_number": 149
    },
    {
     "cell_type": "heading",
     "level": 2,
     "metadata": {
      "heading_collapsed": false,
      "internals": {
       "frag_helper": "fragment_end",
       "frag_number": 70,
       "slide_type": "subslide"
      },
      "slideshow": {
       "slide_type": "subslide"
      }
     },
     "source": [
      "Qualitative Analysis - inspecting text parts and word context"
     ]
    },
    {
     "cell_type": "markdown",
     "metadata": {
      "internals": {
       "frag_helper": "fragment_end",
       "frag_number": 72
      },
      "slideshow": {
       "slide_type": "fragment"
      }
     },
     "source": [
      "Besides a statistical analysis one often wants to find particular examples to gain a better understanding on how text is used.\n",
      "\n",
      "NLTK offers some functionality to search for words and word patterns using the `Text` class."
     ]
    },
    {
     "cell_type": "code",
     "collapsed": false,
     "input": [
      "#instantintate a  text from tokens\n",
      "t = nltk.Text(tokens)"
     ],
     "language": "python",
     "metadata": {
      "internals": {
       "frag_helper": "fragment_end",
       "frag_number": 73,
       "slide_helper": "subslide_end"
      },
      "slide_helper": "subslide_end",
      "slideshow": {
       "slide_type": "fragment"
      }
     },
     "outputs": [],
     "prompt_number": 153
    },
    {
     "cell_type": "markdown",
     "metadata": {
      "internals": {
       "frag_helper": "fragment_end",
       "frag_number": 73,
       "slide_helper": "subslide_end",
       "slide_type": "subslide"
      },
      "slide_helper": "subslide_end",
      "slideshow": {
       "slide_type": "subslide"
      }
     },
     "source": [
      "**Analysing the context of a word**\n",
      "\n",
      "As a first step, we can analyse the context of a word, i.e. the word other words occure together with. \n",
      "\n",
      "As a first step, we want to print the concordance, the contextof a word"
     ]
    },
    {
     "cell_type": "code",
     "collapsed": false,
     "input": [
      "#print surounding words, i.e. the context, of the word \"URL\"\n",
      "t.concordance(\"we\")"
     ],
     "language": "python",
     "metadata": {
      "internals": {
       "frag_helper": "fragment_end",
       "frag_number": 73,
       "slide_helper": "subslide_end",
       "slide_type": "subslide"
      },
      "slide_helper": "subslide_end",
      "slideshow": {
       "slide_type": "subslide"
      }
     },
     "outputs": [
      {
       "output_type": "stream",
       "stream": "stdout",
       "text": [
        "Displaying 25 of 266 matches:\n",
        "ions to explore , such as the corpora we saw in the previous chapters . Howeve\n",
        "wer the following questions : How can we write programs to access text from lo\n",
        " range of language material ? How can we split documents up into individual wo\n",
        "al words and punctuation symbols , so we can carry out the same kinds of analy\n",
        " carry out the same kinds of analysis we did with text corpora in earlier chap\n",
        "corpora in earlier chapters ? How can we write programs to produce formatted o\n",
        "In order to address these questions , we will be covering key concepts in NLP \n",
        "h text on the web is in HTML format , we will also see how to dispense with ma\n",
        "slation of Crime and Punishment , and we can access it as follows . > > > from\n",
        " string with 1,176,893 characters . ( We can see that it is a string , using t\n",
        " of the book , including many details we are not interested in such as whitesp\n",
        "ine ) . For our language processing , we want to break up the string into word\n",
        "tring into words and punctuation , as we saw in 1.. This step is called tokeni\n",
        "URL and reading it into a string . If we now take the further step of creating\n",
        "reating an NLTK text from this list , we can carry out all of the other lingui\n",
        "ll of the other linguistic processing we saw in 1. , along with the regular li\n",
        " in a footer at the end of the file . We can not reliably detect where the con\n",
        "alues to use for slicing the string . We overwrite raw with this slice , so no\n",
        "But with a small amount of extra work we can extract the material we need . De\n",
        "xtra work we can extract the material we need . Dealing with HTML Much of the \n",
        "e as before , using urlopen . For fun we 'll pick a BBC News story called Blon\n",
        " and tables . To get text out of HTML we will use a Python library called Beau\n",
        "es ) . Based on the large count , can we conclude that the of is a frequent co\n",
        ": //pypi.python.org/pypi/feedparser , we can access the content of a blog , as\n",
        "'' ' , ... ] With some further work , we can write programs to create a small \n"
       ]
      }
     ],
     "prompt_number": 142
    },
    {
     "cell_type": "markdown",
     "metadata": {
      "internals": {
       "frag_helper": "fragment_end",
       "frag_number": 73,
       "slide_type": "subslide"
      },
      "slideshow": {
       "slide_type": "subslide"
      }
     },
     "source": [
      "As a second step, we want to summarize which other words appear often in the context of a word"
     ]
    },
    {
     "cell_type": "code",
     "collapsed": false,
     "input": [
      "#analyse similar words in context\n",
      "t.similar(\"we\")"
     ],
     "language": "python",
     "metadata": {
      "internals": {
       "frag_helper": "fragment_end",
       "frag_number": 77
      },
      "slideshow": {
       "slide_type": "fragment"
      }
     },
     "outputs": [
      {
       "output_type": "stream",
       "stream": "stdout",
       "text": [
        "you to it they and which lists now strings characters be what\n",
        "positively ) make there trafi\\\\u0142y trafi\u0142y \u263c division\n"
       ]
      }
     ],
     "prompt_number": 143
    },
    {
     "cell_type": "markdown",
     "metadata": {
      "internals": {
       "frag_helper": "fragment_end",
       "frag_number": 78
      },
      "slideshow": {
       "slide_type": "fragment"
      }
     },
     "source": [
      "As a third step, we can identify the words that occure in the context of two words"
     ]
    },
    {
     "cell_type": "code",
     "collapsed": false,
     "input": [
      "#analyse the common contextes of two or more words\n",
      "t.common_contexts([\"we\",\"you\"],num=100)"
     ],
     "language": "python",
     "metadata": {
      "internals": {
       "frag_helper": "fragment_end",
       "frag_number": 79
      },
      "slideshow": {
       "slide_type": "fragment"
      }
     },
     "outputs": [
      {
       "output_type": "stream",
       "stream": "stdout",
       "text": [
        "._can and_can suppose_have ,_need section_will that_have ,_should\n",
        ",_can once_have ,_will ,_are if_want that_can that_want if_are ._will\n",
        "._should\n"
       ]
      }
     ],
     "prompt_number": 146
    },
    {
     "cell_type": "heading",
     "level": 3,
     "metadata": {
      "heading_collapsed": false,
      "internals": {
       "frag_helper": "fragment_end",
       "frag_number": 79
      },
      "slideshow": {
       "slide_type": "-"
      }
     },
     "source": [
      "Dispersion Plot"
     ]
    },
    {
     "cell_type": "markdown",
     "metadata": {
      "internals": {
       "frag_helper": "fragment_end",
       "frag_number": 79
      },
      "slideshow": {
       "slide_type": "-"
      }
     },
     "source": [
      "Besides analysing which words occure togehter, we can also plot the dispersion, i.e. how words a distributed over the positions in the text. This is called a dispersion plot."
     ]
    },
    {
     "cell_type": "code",
     "collapsed": false,
     "input": [
      "t.dispersion_plot([\"and\", \"URL\", \"function\", \"we\"])"
     ],
     "language": "python",
     "metadata": {
      "internals": {
       "frag_helper": "fragment_end",
       "frag_number": 79
      },
      "slideshow": {
       "slide_type": "-"
      }
     },
     "outputs": [
      {
       "metadata": {},
       "output_type": "display_data",
       "png": "[encoded data removed]",
       "text": [
        "<matplotlib.figure.Figure at 0x11e919710>"
       ]
      }
     ],
     "prompt_number": 148
    },
    {
     "cell_type": "markdown",
     "metadata": {
      "internals": {
       "frag_helper": "fragment_end",
       "frag_number": 83,
       "slide_helper": "subslide_end"
      },
      "slide_helper": "subslide_end",
      "slideshow": {
       "slide_type": "fragment"
      }
     },
     "source": [
      "The `Text` class also offers shortcuts to statistical analysis:"
     ]
    },
    {
     "cell_type": "code",
     "collapsed": false,
     "input": [
      "#shortcut to FreqDist.plot\n",
      "t.plot(20)"
     ],
     "language": "python",
     "metadata": {
      "internals": {
       "frag_helper": "fragment_end",
       "frag_number": 83,
       "slide_helper": "subslide_end",
       "slide_type": "subslide"
      },
      "slide_helper": "subslide_end",
      "slideshow": {
       "slide_type": "subslide"
      }
     },
     "outputs": [
      {
       "metadata": {},
       "output_type": "display_data",
       "png": "[encoded data removed]",
       "text": [
        "<matplotlib.figure.Figure at 0x122314590>"
       ]
      }
     ],
     "prompt_number": 155
    },
    {
     "cell_type": "markdown",
     "metadata": {
      "internals": {
       "frag_helper": "fragment_end",
       "frag_number": 83,
       "slide_type": "subslide"
      },
      "slideshow": {
       "slide_type": "subslide"
      }
     },
     "source": [
      "#### From words to n-grams\n",
      "\n",
      "Often phrases are composed of more than one word, like for example \"New York\". A collocation is a sequence of words that occure unusually often with each other and might define a phrase. \n",
      "\n",
      "The NLTK collocation function constructs bigrams (2 word sequences) and esitmates if the occure on higher probability then expected from the occurrence of every individual word. "
     ]
    },
    {
     "cell_type": "code",
     "collapsed": false,
     "input": [
      "#collocations are unusually often occuring word sequences\n",
      "t.collocations()"
     ],
     "language": "python",
     "metadata": {
      "internals": {
       "frag_helper": "fragment_end",
       "frag_number": 86,
       "slide_helper": "subslide_end"
      },
      "slide_helper": "slide_end",
      "slideshow": {
       "slide_type": "fragment"
      }
     },
     "outputs": [
      {
       "output_type": "stream",
       "stream": "stdout",
       "text": [
        "regular expressions; regular expression; System Message; recent call;\n",
        "Project Gutenberg; LATIN SMALL; SMALL LETTER; call last; Monty Python;\n",
        "lol lol; Flying Circus; pod koniec; ... print; search engines; Rough\n",
        "winds; darling buds; lease hath; 'Monty Python; compare thee; negative\n",
        "indexes\n"
       ]
      }
     ],
     "prompt_number": 163
    },
    {
     "cell_type": "heading",
     "level": 1,
     "metadata": {
      "heading_collapsed": false,
      "internals": {
       "frag_helper": "fragment_end",
       "frag_number": 86,
       "slide_type": "subslide"
      },
      "slideshow": {
       "slide_type": "slide"
      }
     },
     "source": [
      "Information Extraction"
     ]
    },
    {
     "cell_type": "markdown",
     "metadata": {
      "internals": {
       "frag_helper": "fragment_end",
       "frag_number": 88
      },
      "slideshow": {
       "slide_type": "fragment"
      }
     },
     "source": [
      "<div class=\"alert alert-alert\">\n",
      "**Information Extraction** is the identification, and consequent or concurrent classification and structuring into semantic classes, of specific information found in unstructred data soruces, such as natural language text, making the information more suitable for information processing tasks. ([Moens, 2006](http://www.springer.com/computer/database+management+%26+information+retrieval/book/978-1-4020-4987-3))\n",
      "</div>"
     ]
    },
    {
     "cell_type": "markdown",
     "metadata": {
      "internals": {
       "frag_helper": "fragment_end",
       "frag_number": 89,
       "slide_helper": "subslide_end"
      },
      "slide_helper": "slide_end",
      "slideshow": {
       "slide_type": "fragment"
      }
     },
     "source": [
      "**Example**\n",
      "\n",
      "\"*Michael Granitzer* gives the lecutres on *Web Mining*\" and \"*Machine Learning*\"\n",
      "\n",
      "- Persons: [\"Michael Granitzer\"]\n",
      "- Lectures: [\"Machine Learning\", \"Web Mining\"]\n",
      "- Relations: \n",
      "  - (\"Michael Granitzer\", \"lecturerOf\", \"Web Mining\")\n",
      "  - (\"Michael Granitzer\", \"lecturerOf\", \"Machine Learning\")"
     ]
    },
    {
     "cell_type": "heading",
     "level": 2,
     "metadata": {
      "heading_collapsed": false,
      "internals": {
       "frag_helper": "fragment_end",
       "frag_number": 89,
       "slide_helper": "subslide_end",
       "slide_type": "subslide"
      },
      "slide_helper": "subslide_end",
      "slideshow": {
       "slide_type": "slide"
      }
     },
     "source": [
      "Subtasks"
     ]
    },
    {
     "cell_type": "markdown",
     "metadata": {
      "internals": {
       "frag_helper": "fragment_end",
       "frag_number": 89,
       "slide_helper": "subslide_end",
       "slide_type": "subslide"
      },
      "slide_helper": "subslide_end",
      "slideshow": {
       "slide_type": "subslide"
      }
     },
     "source": [
      "- Named Entity Recognition: Identification of the parts of natural language refering to an entity (aka Named Entity Detection) and recognition of the class of entity.\n",
      "- Coreference Resolution: Identification of recognized entities refering to the same semantic meaning.\n",
      "- Entity Linking: Linking the extracted entity to some external knowledge base.\n",
      "- Relationship Extraction: identification of relations between entities."
     ]
    },
    {
     "cell_type": "heading",
     "level": 2,
     "metadata": {
      "heading_collapsed": false,
      "internals": {
       "frag_helper": "fragment_end",
       "frag_number": 89,
       "slide_type": "subslide"
      },
      "slideshow": {
       "slide_type": "subslide"
      }
     },
     "source": [
      "Standard Information Extraction Pipeline"
     ]
    },
    {
     "cell_type": "markdown",
     "metadata": {
      "internals": {
       "frag_helper": "fragment_end",
       "frag_number": 93
      },
      "slideshow": {
       "slide_type": "fragment"
      }
     },
     "source": [
      "<img src=\"files/images/NER Pipelin.png\"/>"
     ]
    },
    {
     "cell_type": "code",
     "collapsed": false,
     "input": [
      "import nltk\n",
      "#as python function\n",
      "def ie_preprocess(document):\n",
      "     sentences = nltk.sent_tokenize(document)\n",
      "     sentences = [nltk.word_tokenize(sent) for sent in sentences]\n",
      "     sentences = [nltk.pos_tag(sent) for sent in sentences]\n",
      "     return sentences\n"
     ],
     "language": "python",
     "metadata": {
      "internals": {
       "frag_helper": "fragment_end",
       "frag_number": 93
      },
      "slideshow": {
       "slide_type": "-"
      }
     },
     "outputs": [],
     "prompt_number": 14
    },
    {
     "cell_type": "code",
     "collapsed": false,
     "input": [
      "document = \"Michael enjoys Natural Language Processing at University of Passau.\"\n",
      "print ie_preprocess(document)"
     ],
     "language": "python",
     "metadata": {
      "internals": {
       "frag_helper": "fragment_end",
       "frag_number": 93,
       "slide_helper": "subslide_end"
      },
      "slide_helper": "slide_end",
      "slideshow": {
       "slide_type": "-"
      }
     },
     "outputs": [
      {
       "output_type": "stream",
       "stream": "stdout",
       "text": [
        "[[('Michael', 'NNP'), ('enjoys', 'NNS'), ('Natural', 'NNP'), ('Language', 'NNP'), ('Processing', 'NNP'), ('at', 'IN'), ('University', 'NNP'), ('of', 'IN'), ('Passau', 'NNP'), ('.', '.')]]\n"
       ]
      }
     ],
     "prompt_number": 16
    },
    {
     "cell_type": "heading",
     "level": 3,
     "metadata": {
      "heading_collapsed": false,
      "internals": {
       "frag_helper": "fragment_end",
       "frag_number": 93,
       "slide_type": "subslide"
      },
      "slideshow": {
       "slide_type": "slide"
      }
     },
     "source": [
      "Chunking"
     ]
    },
    {
     "cell_type": "markdown",
     "metadata": {
      "internals": {
       "frag_helper": "fragment_end",
       "frag_number": 97
      },
      "slideshow": {
       "slide_type": "fragment"
      }
     },
     "source": [
      "<div class=\"alert alert-warning\">\n",
      "**Chunking** refers to the process of segmenting and labelling multi-otken sequences to larger chunks. Such chunks may form an entity.\n",
      "</div>"
     ]
    },
    {
     "cell_type": "markdown",
     "metadata": {
      "internals": {
       "frag_helper": "fragment_end",
       "frag_number": 98
      },
      "slideshow": {
       "slide_type": "fragment"
      }
     },
     "source": [
      "Chunking Approaches:\n",
      "\n",
      "- Chunk Grammars (e.g. via Regular Expressions)\n",
      "- Machine Learning/Statistical Taggers\n",
      "\n"
     ]
    },
    {
     "cell_type": "markdown",
     "metadata": {
      "internals": {
       "frag_helper": "fragment_end",
       "frag_number": 99,
       "slide_helper": "subslide_end"
      },
      "slide_helper": "subslide_end",
      "slideshow": {
       "slide_type": "fragment"
      }
     },
     "source": [
      "For example from \n",
      "\n",
      "    ('Michael', 'NNP'), ('enjoys', 'NNS'), ('Natural', 'NNP'),('Language', 'NNP'), ('Processing', 'NNP'), ('at', 'IN'), ('University', 'NNP'), ('of', 'IN'), ('Passau', 'NNP'), ('.', '.')\n",
      "    \n",
      "we would group the following multi-token sequences as noun phrase chunks:\n",
      "\n",
      "    (('Natural', 'NNP'),('Language', 'NNP'), ('Processing', 'NNP'), NP)\n",
      "    (('University', 'NNP'), ('of', 'IN'), ('Passau', 'NNP'))\n",
      "    \n",
      "\n",
      "\n"
     ]
    },
    {
     "cell_type": "code",
     "collapsed": false,
     "input": [
      "#chunking through grammar\n",
      "sentence = [(\"the\", \"DT\"), (\"beautiful\", \"JJ\"), (\"young\", \"JJ\"), \n",
      "            (\"women\", \"NN\"), (\"looked\", \"VBD\"), (\"at\", \"IN\"),  \n",
      "            (\"the\", \"DT\"), (\"red\", \"JJ\"), (\"bus\", \"NN\")]\n",
      "grammar = \"NP : {<DT>?<JJ>*<NN>}\"\n",
      "cp = nltk.RegexpParser(grammar)\n",
      "result = cp.parse(sentence)\n",
      "print result"
     ],
     "language": "python",
     "metadata": {
      "internals": {
       "frag_helper": "fragment_end",
       "frag_number": 99,
       "slide_helper": "subslide_end",
       "slide_type": "subslide"
      },
      "slide_helper": "subslide_end",
      "slideshow": {
       "slide_type": "subslide"
      }
     },
     "outputs": [
      {
       "output_type": "stream",
       "stream": "stdout",
       "text": [
        "(S\n",
        "  (NP the/DT beautiful/JJ young/JJ women/NN)\n",
        "  looked/VBD\n",
        "  at/IN\n",
        "  (NP the/DT red/JJ bus/NN))\n"
       ]
      }
     ],
     "prompt_number": 27
    },
    {
     "cell_type": "code",
     "collapsed": false,
     "input": [
      "#chunking with a more complex grammar using two entires. Taken from NLTK Book\n",
      "grammar = r\"\"\"\n",
      "  NP: {<DT|PP\\$>?<JJ>*<NN>}   # chunk determiner/possessive, adjectives and noun\n",
      "      {<NNP>+}                # chunk sequences of proper nouns\n",
      "\"\"\"\n",
      "cp = nltk.RegexpParser(grammar)\n",
      "sentence = [(\"Rapunzel\", \"NNP\"), (\"let\", \"VBD\"), (\"down\", \"RP\"),\n",
      "            (\"her\", \"PP$\"), (\"long\", \"JJ\"), (\"golden\", \"JJ\"), \n",
      "            (\"hair\", \"NN\")]\n",
      "\n",
      "print(cp.parse(sentence)) \n"
     ],
     "language": "python",
     "metadata": {
      "internals": {
       "frag_helper": "fragment_end",
       "frag_number": 99,
       "slide_helper": "subslide_end",
       "slide_type": "subslide"
      },
      "slide_helper": "subslide_end",
      "slideshow": {
       "slide_type": "subslide"
      }
     },
     "outputs": [
      {
       "output_type": "stream",
       "stream": "stdout",
       "text": [
        "(S\n",
        "  (NP Rapunzel/NNP)\n",
        "  let/VBD\n",
        "  down/RP\n",
        "  (NP her/PP$ long/JJ golden/JJ hair/NN))\n"
       ]
      }
     ],
     "prompt_number": 31
    },
    {
     "cell_type": "heading",
     "level": 3,
     "metadata": {
      "heading_collapsed": false,
      "internals": {
       "frag_helper": "fragment_end",
       "frag_number": 99,
       "slide_type": "subslide"
      },
      "slideshow": {
       "slide_type": "subslide"
      }
     },
     "source": [
      "Chinking"
     ]
    },
    {
     "cell_type": "markdown",
     "metadata": {
      "internals": {
       "frag_helper": "fragment_end",
       "frag_number": 99
      },
      "slideshow": {
       "slide_type": "-"
      }
     },
     "source": [
      "<div class = \"alert alert-warning\">\n",
      "**Chinking** refers to the process of chunking through excluding patterns.\n",
      "</div>"
     ]
    },
    {
     "cell_type": "code",
     "collapsed": false,
     "input": [
      "#chiking example from the NLTK Book.\n",
      "grammar = r\"\"\"\n",
      "  NP:\n",
      "    {<.*>+}          # Chunk everything\n",
      "    }<VBD|IN>+{      # Chink sequences of VBD and IN\n",
      "  \"\"\"\n",
      "sentence = [(\"the\", \"DT\"), (\"little\", \"JJ\"), (\"yellow\", \"JJ\"),\n",
      "       (\"dog\", \"NN\"), (\"barked\", \"VBD\"), (\"at\", \"IN\"),  (\"the\", \"DT\"), (\"cat\", \"NN\")]\n",
      "cp = nltk.RegexpParser(grammar)\n",
      "print(cp.parse(sentence))"
     ],
     "language": "python",
     "metadata": {
      "internals": {
       "frag_helper": "fragment_end",
       "frag_number": 104,
       "slide_helper": "subslide_end"
      },
      "slide_helper": "subslide_end",
      "slideshow": {
       "slide_type": "fragment"
      }
     },
     "outputs": [
      {
       "output_type": "stream",
       "stream": "stdout",
       "text": [
        "(S\n",
        "  (NP the/DT little/JJ yellow/JJ dog/NN)\n",
        "  barked/VBD\n",
        "  at/IN\n",
        "  (NP the/DT cat/NN))\n"
       ]
      }
     ],
     "prompt_number": 33
    },
    {
     "cell_type": "heading",
     "level": 3,
     "metadata": {
      "heading_collapsed": false,
      "internals": {
       "frag_helper": "fragment_end",
       "frag_number": 104,
       "slide_type": "subslide"
      },
      "slideshow": {
       "slide_type": "subslide"
      }
     },
     "source": [
      "Named Entity Extraction"
     ]
    },
    {
     "cell_type": "markdown",
     "metadata": {
      "internals": {
       "frag_helper": "fragment_end",
       "frag_number": 104
      },
      "slideshow": {
       "slide_type": "-"
      }
     },
     "source": [
      "<div class=\"alert alert-warning\">\n",
      "Named Entities are noun phrases that refer to a specific classes of phrases such as persons, organisations, persons, dates etc.\n",
      "</div>"
     ]
    },
    {
     "cell_type": "markdown",
     "metadata": {
      "internals": {
       "frag_helper": "fragment_end",
       "frag_number": 107,
       "slide_helper": "subslide_end"
      },
      "slide_helper": "subslide_end",
      "slideshow": {
       "slide_type": "fragment"
      }
     },
     "source": [
      "This can be broken down into\n",
      "1. Determining the boundary of an named entity\n",
      "2. Determining its type\n",
      "\n",
      "The tasks requires usually a-priori knowledge, such as a list of location names and combines this knowlege with linguistic structures.\n",
      "\n",
      "NLTK provides a standard ie chunker, `nltk.ne_chunk` that has been trained on a standard corpus. `nltk.ne_chunk` expects a tagged sentence per call."
     ]
    },
    {
     "cell_type": "code",
     "collapsed": false,
     "input": [
      "import nltk\n",
      "#as python function\n",
      "def ie(document):\n",
      "     sentences = nltk.sent_tokenize(document) \n",
      "     sentences = [nltk.word_tokenize(sent) for sent in sentences]\n",
      "     sentences = [nltk.pos_tag(sent) for sent in sentences]\n",
      "     return [nltk.ne_chunk(sent) for sent in sentences]"
     ],
     "language": "python",
     "metadata": {
      "internals": {
       "frag_helper": "fragment_end",
       "frag_number": 107,
       "slide_type": "subslide"
      },
      "slideshow": {
       "slide_type": "subslide"
      }
     },
     "outputs": [],
     "prompt_number": 17
    },
    {
     "cell_type": "code",
     "collapsed": false,
     "input": [
      "document = \"The Washington Monument is the most prominent structure in \"+\\\n",
      "            \"Washington, D.C. and one of the city's early attractions.\"+\\\n",
      "            \"It was built in honor of George Washington, who led the \"+\\\n",
      "            \"country to independence and then became its first President.\"\n",
      "print ie(document) "
     ],
     "language": "python",
     "metadata": {
      "internals": {
       "frag_helper": "fragment_end",
       "frag_number": 109,
       "slide_helper": "subslide_end"
      },
      "slide_helper": "subslide_end",
      "slideshow": {
       "slide_type": "fragment"
      }
     },
     "outputs": [
      {
       "output_type": "stream",
       "stream": "stdout",
       "text": [
        "[Tree('S', [('The', 'DT'), Tree('ORGANIZATION', [('Washington', 'NNP'), ('Monument', 'NNP')]), ('is', 'VBZ'), ('the', 'DT'), ('most', 'RBS'), ('prominent', 'JJ'), ('structure', 'NN'), ('in', 'IN'), Tree('GPE', [('Washington', 'NNP')]), (',', ','), Tree('GPE', [('D.C.', 'NNP')]), ('and', 'CC'), ('one', 'CD'), ('of', 'IN'), ('the', 'DT'), ('city', 'NN'), (\"'s\", 'POS'), ('early', 'JJ'), ('attractions.It', 'NN'), ('was', 'VBD'), ('built', 'VBN'), ('in', 'IN'), ('honor', 'NN'), ('of', 'IN'), Tree('PERSON', [('George', 'NNP'), ('Washington', 'NNP')]), (',', ','), ('who', 'WP'), ('led', 'VBN'), ('the', 'DT'), ('country', 'NN'), ('to', 'TO'), ('independence', 'VB'), ('and', 'CC'), ('then', 'RB'), ('became', 'VBD'), ('its', 'PRP$'), ('first', 'JJ'), ('President', 'NNP'), ('.', '.')])]\n"
       ]
      }
     ],
     "prompt_number": 19
    },
    {
     "cell_type": "markdown",
     "metadata": {
      "internals": {
       "frag_helper": "fragment_end",
       "frag_number": 109,
       "slide_type": "subslide"
      },
      "slideshow": {
       "slide_type": "subslide"
      }
     },
     "source": [
      "Note that the resulting structure is a tree, which is quite natural representation for exclusively nested groups. We can draw the tree using the corresponding draw method or parse it."
     ]
    },
    {
     "cell_type": "code",
     "collapsed": false,
     "input": [
      "#attention: a new window opens here\n",
      "ie(document)[0].draw()"
     ],
     "language": "python",
     "metadata": {
      "internals": {
       "frag_helper": "fragment_end",
       "frag_number": 111,
       "slide_helper": "subslide_end"
      },
      "slide_helper": "subslide_end",
      "slideshow": {
       "slide_type": "fragment"
      }
     },
     "outputs": [
      {
       "output_type": "stream",
       "stream": "stdout",
       "text": [
        "Populating the interactive namespace from numpy and matplotlib\n"
       ]
      }
     ],
     "prompt_number": 21
    },
    {
     "cell_type": "code",
     "collapsed": false,
     "input": [
      "def print_tree(node, indent=1):\n",
      "    s= \"\".join([\"\\t\" for i in range(indent-1)])    \n",
      "    s=s+\"|-\"\n",
      "    for t in node:\n",
      "        print s,t\n",
      "        if isinstance(t,nltk.Tree):\n",
      "            print_tree(t,indent+1)\n",
      "            \n",
      "t=ie(document)[0]\n",
      "print \"Sentence\"\n",
      "print_tree(t)"
     ],
     "language": "python",
     "metadata": {
      "internals": {
       "frag_helper": "fragment_end",
       "frag_number": 111,
       "slide_helper": "subslide_end",
       "slide_type": "subslide"
      },
      "slide_helper": "subslide_end",
      "slideshow": {
       "slide_type": "subslide"
      }
     },
     "outputs": [
      {
       "output_type": "stream",
       "stream": "stdout",
       "text": [
        "Sentence\n",
        "|- ('The', 'DT')\n",
        "|- (ORGANIZATION Washington/NNP Monument/NNP)\n",
        "\t|- ('Washington', 'NNP')\n",
        "\t|- ('Monument', 'NNP')\n",
        "|- ('is', 'VBZ')\n",
        "|- ('the', 'DT')\n",
        "|- ('most', 'RBS')\n",
        "|- ('prominent', 'JJ')\n",
        "|- ('structure', 'NN')\n",
        "|- ('in', 'IN')\n",
        "|- (GPE Washington/NNP)\n",
        "\t|- ('Washington', 'NNP')\n",
        "|- (',', ',')\n",
        "|- (GPE D.C./NNP)\n",
        "\t|- ('D.C.', 'NNP')\n",
        "|- ('and', 'CC')\n",
        "|- ('one', 'CD')\n",
        "|- ('of', 'IN')\n",
        "|- ('the', 'DT')\n",
        "|- ('city', 'NN')\n",
        "|- (\"'s\", 'POS')\n",
        "|- ('early', 'JJ')\n",
        "|- ('attractions.It', 'NN')\n",
        "|- ('was', 'VBD')\n",
        "|- ('built', 'VBN')\n",
        "|- ('in', 'IN')\n",
        "|- ('honor', 'NN')\n",
        "|- ('of', 'IN')\n",
        "|- (PERSON George/NNP Washington/NNP)\n",
        "\t|- ('George', 'NNP')\n",
        "\t|- ('Washington', 'NNP')\n",
        "|- (',', ',')\n",
        "|- ('who', 'WP')\n",
        "|- ('led', 'VBN')\n",
        "|- ('the', 'DT')\n",
        "|- ('country', 'NN')\n",
        "|- ('to', 'TO')\n",
        "|- ('independence', 'VB')\n",
        "|- ('and', 'CC')\n",
        "|- ('then', 'RB')\n",
        "|- ('became', 'VBD')\n",
        "|- ('its', 'PRP$')\n",
        "|- ('first', 'JJ')\n",
        "|- ('President', 'NNP')\n",
        "|- ('.', '.')\n"
       ]
      }
     ],
     "prompt_number": 31
    },
    {
     "cell_type": "code",
     "collapsed": false,
     "input": [
      "#also works with the buildin pprint method\n",
      "print t.pprint()"
     ],
     "language": "python",
     "metadata": {
      "internals": {
       "frag_helper": "fragment_end",
       "frag_number": 111,
       "slide_helper": "subslide_end",
       "slide_type": "subslide"
      },
      "slide_helper": "subslide_end",
      "slideshow": {
       "slide_type": "subslide"
      }
     },
     "outputs": [
      {
       "output_type": "stream",
       "stream": "stdout",
       "text": [
        "(S\n",
        "  The/DT\n",
        "  (ORGANIZATION Washington/NNP Monument/NNP)\n",
        "  is/VBZ\n",
        "  the/DT\n",
        "  most/RBS\n",
        "  prominent/JJ\n",
        "  structure/NN\n",
        "  in/IN\n",
        "  (GPE Washington/NNP)\n",
        "  ,/,\n",
        "  (GPE D.C./NNP)\n",
        "  and/CC\n",
        "  one/CD\n",
        "  of/IN\n",
        "  the/DT\n",
        "  city/NN\n",
        "  's/POS\n",
        "  early/JJ\n",
        "  attractions.It/NN\n",
        "  was/VBD\n",
        "  built/VBN\n",
        "  in/IN\n",
        "  honor/NN\n",
        "  of/IN\n",
        "  (PERSON George/NNP Washington/NNP)\n",
        "  ,/,\n",
        "  who/WP\n",
        "  led/VBN\n",
        "  the/DT\n",
        "  country/NN\n",
        "  to/TO\n",
        "  independence/VB\n",
        "  and/CC\n",
        "  then/RB\n",
        "  became/VBD\n",
        "  its/PRP$\n",
        "  first/JJ\n",
        "  President/NNP\n",
        "  ./.)\n"
       ]
      }
     ],
     "prompt_number": 33
    },
    {
     "cell_type": "heading",
     "level": 2,
     "metadata": {
      "heading_collapsed": false,
      "internals": {
       "frag_helper": "fragment_end",
       "frag_number": 111,
       "slide_type": "subslide"
      },
      "slideshow": {
       "slide_type": "subslide"
      }
     },
     "source": [
      "Exercise A - Preprocessing the Reuters Corpus with NLTK"
     ]
    },
    {
     "cell_type": "markdown",
     "metadata": {
      "internals": {
       "frag_helper": "fragment_end",
       "frag_number": 115,
       "slide_helper": "subslide_end"
      },
      "slide_helper": "slide_end",
      "slideshow": {
       "slide_type": "fragment"
      }
     },
     "source": [
      "Please conduct Exercise A in [Exercises - Natural Language Processing with NLTK](exercise/III.NLTK-Intro-Exercise.ipynb)"
     ]
    },
    {
     "cell_type": "heading",
     "level": 1,
     "metadata": {
      "heading_collapsed": false,
      "internals": {
       "frag_helper": "fragment_end",
       "frag_number": 115,
       "slide_type": "subslide"
      },
      "slideshow": {
       "slide_type": "slide"
      }
     },
     "source": [
      "Corpora"
     ]
    },
    {
     "cell_type": "markdown",
     "metadata": {
      "internals": {
       "frag_helper": "fragment_end",
       "frag_number": 117,
       "slide_helper": "subslide_end"
      },
      "slide_helper": "subslide_end",
      "slideshow": {
       "slide_type": "fragment"
      }
     },
     "source": [
      "<div class=\"alert alert-warning\">\n",
      "A **text corpus** is a large and structured set of texts for conducting statistical analysis and to train/test models in NLP.\n",
      "</div>\n",
      "\n",
      "- **Annotated Corpora:** Text corporas where elements are annotated (e.g. Part-of-Speech tagging)\n",
      "- **Monolingual Corpora:** Corpora of one language\n",
      "- **Multilingual Corpora:** Corpora containing more than one language\n",
      "\n",
      "\n",
      "Corpora are the main subject of research in the field of Corpus Linguistics.\n"
     ]
    },
    {
     "cell_type": "heading",
     "level": 2,
     "metadata": {
      "heading_collapsed": false,
      "internals": {
       "frag_helper": "fragment_end",
       "frag_number": 117,
       "slide_type": "subslide"
      },
      "slideshow": {
       "slide_type": "subslide"
      }
     },
     "source": [
      "Available Corpora in NLTK"
     ]
    },
    {
     "cell_type": "markdown",
     "metadata": {
      "internals": {
       "frag_helper": "fragment_end",
       "frag_number": 119
      },
      "slideshow": {
       "slide_type": "fragment"
      }
     },
     "source": [
      "NLTK provides a \n",
      "\n",
      "- set of available corpora (annotated, mono and multilingual)\n",
      "- functions for loading, managing, storing and analysing corpora"
     ]
    },
    {
     "cell_type": "markdown",
     "metadata": {
      "internals": {
       "frag_helper": "fragment_end",
       "frag_number": 120
      },
      "slideshow": {
       "slide_type": "fragment"
      }
     },
     "source": [
      "<div class=\"alert alert-info\">\n",
      "Most NLTK functions do not require text to be represented as corpora. They can be applied on plain strings also. However, corpora abstract the management of strings and the associated information.\n",
      "</div>"
     ]
    },
    {
     "cell_type": "markdown",
     "metadata": {
      "internals": {
       "frag_helper": "fragment_end",
       "frag_number": 121,
       "slide_helper": "subslide_end"
      },
      "slide_helper": "subslide_end",
      "slideshow": {
       "slide_type": "fragment"
      }
     },
     "source": [
      "Further details at the [NLTK Corpora HOWTO](http://www.nltk.org/howto/corpus.html)"
     ]
    },
    {
     "cell_type": "heading",
     "level": 3,
     "metadata": {
      "heading_collapsed": false,
      "internals": {
       "frag_helper": "fragment_end",
       "frag_number": 121,
       "slide_type": "subslide"
      },
      "slideshow": {
       "slide_type": "subslide"
      }
     },
     "source": [
      "Types of Corpora"
     ]
    },
    {
     "cell_type": "markdown",
     "metadata": {
      "internals": {
       "frag_helper": "fragment_end",
       "frag_number": 123
      },
      "slideshow": {
       "slide_type": "fragment"
      }
     },
     "source": [
      "Corporas usually contain a list of files, consisting of a list of structure elements (e.g. paragraphs, sentences) which consist of a list of words.\n",
      "\n",
      "Corpora and functions over corporae are provided via a so called corpus reader. The available functions depend on the type of corpora."
     ]
    },
    {
     "cell_type": "markdown",
     "metadata": {
      "internals": {
       "frag_helper": "fragment_end",
       "frag_number": 124
      },
      "slideshow": {
       "slide_type": "fragment"
      }
     },
     "source": [
      "NLTK supports different types of corpora, namely\n",
      "\n",
      "- **Plaintext Corpora**: Usually a set of files where every file contains text.\n",
      "- **Tagged Corpora**: Words are tagged with type information like for example part-of-speech for a word\n",
      "- **Chunked Corpora**: Corpora that provide chunk structures (as flat trees), like for example word, tag pairs that for a phrase\n",
      "- **Parsed Corpora**: Corpora that provide a full parsing tree\n",
      "- **Word Lists, Lexicons, Semantic Networks **: Word lookup tables forming external information on words/phrases (E.g. stopwords, forenames, synonyms). \n",
      "   - WordNet - an ontology/thesaurus containing semantic information on words like synonyms\n",
      "- **Categorized Corpora**: corpora where every document is assigned to a category"
     ]
    },
    {
     "cell_type": "code",
     "collapsed": false,
     "input": [
      "import nltk.corpus as corpus"
     ],
     "language": "python",
     "metadata": {
      "internals": {
       "frag_helper": "fragment_end",
       "frag_number": 125,
       "slide_helper": "subslide_end"
      },
      "slide_helper": "subslide_end",
      "slideshow": {
       "slide_type": "fragment"
      }
     },
     "outputs": [
      {
       "output_type": "stream",
       "stream": "stdout",
       "text": [
        "\n"
       ]
      }
     ],
     "prompt_number": 29
    },
    {
     "cell_type": "heading",
     "level": 3,
     "metadata": {
      "heading_collapsed": false,
      "internals": {
       "frag_helper": "fragment_end",
       "frag_number": 125,
       "slide_helper": "subslide_end",
       "slide_type": "subslide"
      },
      "slide_helper": "subslide_end",
      "slideshow": {
       "slide_type": "subslide"
      }
     },
     "source": [
      "Using Plain Text Corpora "
     ]
    },
    {
     "cell_type": "code",
     "collapsed": false,
     "input": [
      "#lets take a look at the genesis corpus\n",
      "print \"The Genesis\"\n",
      "print \"Files: \",corpus.genesis.fileids()\n",
      "print \"Encoding of file %s is %s\"%(corpus.genesis.fileids()[0],\n",
      "                                   corpus.genesis.encoding(corpus.genesis.fileids()[0]))\n",
      "print \"Description:\", corpus.genesis.readme()\n",
      "print \"Number of Sentences %d:\"%len(corpus.genesis.sents())\n",
      "print \"First sentence:\"\n",
      "print \"Number of words %d:\"%len(corpus.genesis.words())\n",
      "print \"Words:\", corpus.genesis.words()\n"
     ],
     "language": "python",
     "metadata": {
      "internals": {
       "frag_helper": "fragment_end",
       "frag_number": 125,
       "slide_type": "subslide"
      },
      "slideshow": {
       "slide_type": "subslide"
      }
     },
     "outputs": [
      {
       "output_type": "stream",
       "stream": "stdout",
       "text": [
        "The Genesis\n",
        "Files: "
       ]
      },
      {
       "ename": "LookupError",
       "evalue": "\n**********************************************************************\n  Resource u'corpora/genesis' not found.  Please use the NLTK\n  Downloader to obtain the resource:  >>> nltk.download()\n  Searched in:\n    - '/Users/mgrani/nltk_data'\n    - '/usr/share/nltk_data'\n    - '/usr/local/share/nltk_data'\n    - '/usr/lib/nltk_data'\n    - '/usr/local/lib/nltk_data'\n**********************************************************************",
       "output_type": "pyerr",
       "traceback": [
        "\u001b[0;31m---------------------------------------------------------------------------\u001b[0m\n\u001b[0;31mLookupError\u001b[0m                               Traceback (most recent call last)",
        "\u001b[0;32m<ipython-input-30-ac372ceabf98>\u001b[0m in \u001b[0;36m<module>\u001b[0;34m()\u001b[0m\n\u001b[1;32m      1\u001b[0m \u001b[0;31m#lets take a look at the genesis corpus\u001b[0m\u001b[0;34m\u001b[0m\u001b[0;34m\u001b[0m\u001b[0m\n\u001b[1;32m      2\u001b[0m \u001b[0;32mprint\u001b[0m \u001b[0;34m\"The Genesis\"\u001b[0m\u001b[0;34m\u001b[0m\u001b[0m\n\u001b[0;32m----> 3\u001b[0;31m \u001b[0;32mprint\u001b[0m \u001b[0;34m\"Files: \"\u001b[0m\u001b[0;34m,\u001b[0m\u001b[0mcorpus\u001b[0m\u001b[0;34m.\u001b[0m\u001b[0mgenesis\u001b[0m\u001b[0;34m.\u001b[0m\u001b[0mfileids\u001b[0m\u001b[0;34m(\u001b[0m\u001b[0;34m)\u001b[0m\u001b[0;34m\u001b[0m\u001b[0m\n\u001b[0m\u001b[1;32m      4\u001b[0m print \"Encoding of file %s is %s\"%(corpus.genesis.fileids()[0],\n\u001b[1;32m      5\u001b[0m                                    corpus.genesis.encoding(corpus.genesis.fileids()[0]))\n",
        "\u001b[0;32m/opt/local/Library/Frameworks/Python.framework/Versions/2.7/lib/python2.7/site-packages/nltk/corpus/util.pyc\u001b[0m in \u001b[0;36m__getattr__\u001b[0;34m(self, attr)\u001b[0m\n\u001b[1;32m     97\u001b[0m             \u001b[0;32mraise\u001b[0m \u001b[0mAttributeError\u001b[0m\u001b[0;34m(\u001b[0m\u001b[0;34m\"LazyCorpusLoader object has no attribute '__bases__'\"\u001b[0m\u001b[0;34m)\u001b[0m\u001b[0;34m\u001b[0m\u001b[0m\n\u001b[1;32m     98\u001b[0m \u001b[0;34m\u001b[0m\u001b[0m\n\u001b[0;32m---> 99\u001b[0;31m         \u001b[0mself\u001b[0m\u001b[0;34m.\u001b[0m\u001b[0m__load\u001b[0m\u001b[0;34m(\u001b[0m\u001b[0;34m)\u001b[0m\u001b[0;34m\u001b[0m\u001b[0m\n\u001b[0m\u001b[1;32m    100\u001b[0m         \u001b[0;31m# This looks circular, but its not, since __load() changes our\u001b[0m\u001b[0;34m\u001b[0m\u001b[0;34m\u001b[0m\u001b[0m\n\u001b[1;32m    101\u001b[0m         \u001b[0;31m# __class__ to something new:\u001b[0m\u001b[0;34m\u001b[0m\u001b[0;34m\u001b[0m\u001b[0m\n",
        "\u001b[0;32m/opt/local/Library/Frameworks/Python.framework/Versions/2.7/lib/python2.7/site-packages/nltk/corpus/util.pyc\u001b[0m in \u001b[0;36m__load\u001b[0;34m(self)\u001b[0m\n\u001b[1;32m     62\u001b[0m             \u001b[0;32mexcept\u001b[0m \u001b[0mLookupError\u001b[0m \u001b[0;32mas\u001b[0m \u001b[0me\u001b[0m\u001b[0;34m:\u001b[0m\u001b[0;34m\u001b[0m\u001b[0m\n\u001b[1;32m     63\u001b[0m                 \u001b[0;32mtry\u001b[0m\u001b[0;34m:\u001b[0m \u001b[0mroot\u001b[0m \u001b[0;34m=\u001b[0m \u001b[0mnltk\u001b[0m\u001b[0;34m.\u001b[0m\u001b[0mdata\u001b[0m\u001b[0;34m.\u001b[0m\u001b[0mfind\u001b[0m\u001b[0;34m(\u001b[0m\u001b[0;34m'corpora/%s'\u001b[0m \u001b[0;34m%\u001b[0m \u001b[0mzip_name\u001b[0m\u001b[0;34m)\u001b[0m\u001b[0;34m\u001b[0m\u001b[0m\n\u001b[0;32m---> 64\u001b[0;31m                 \u001b[0;32mexcept\u001b[0m \u001b[0mLookupError\u001b[0m\u001b[0;34m:\u001b[0m \u001b[0;32mraise\u001b[0m \u001b[0me\u001b[0m\u001b[0;34m\u001b[0m\u001b[0m\n\u001b[0m\u001b[1;32m     65\u001b[0m \u001b[0;34m\u001b[0m\u001b[0m\n\u001b[1;32m     66\u001b[0m         \u001b[0;31m# Load the corpus.\u001b[0m\u001b[0;34m\u001b[0m\u001b[0;34m\u001b[0m\u001b[0m\n",
        "\u001b[0;31mLookupError\u001b[0m: \n**********************************************************************\n  Resource u'corpora/genesis' not found.  Please use the NLTK\n  Downloader to obtain the resource:  >>> nltk.download()\n  Searched in:\n    - '/Users/mgrani/nltk_data'\n    - '/usr/share/nltk_data'\n    - '/usr/local/share/nltk_data'\n    - '/usr/lib/nltk_data'\n    - '/usr/local/lib/nltk_data'\n**********************************************************************"
       ]
      }
     ],
     "prompt_number": 30
    },
    {
     "cell_type": "heading",
     "level": 3,
     "metadata": {
      "heading_collapsed": false,
      "internals": {
       "frag_helper": "fragment_end",
       "frag_number": 125
      },
      "slideshow": {
       "slide_type": "-"
      }
     },
     "source": [
      "Using Tagged Corpora"
     ]
    },
    {
     "cell_type": "code",
     "collapsed": false,
     "input": [
      "from nltk.corpus import brown\n",
      "print \"Words\", brown.words()\n",
      "print\n",
      "print \"Tagged words\", brown.tagged_words()\n",
      "print\n",
      "print \"Sentences\", brown.tagged_sents()\n",
      "print\n",
      "print \"pragraphs\", brown.tagged_paras()"
     ],
     "language": "python",
     "metadata": {
      "internals": {
       "frag_helper": "fragment_end",
       "frag_number": 125
      },
      "slideshow": {
       "slide_type": "-"
      }
     },
     "outputs": []
    },
    {
     "cell_type": "code",
     "collapsed": false,
     "input": [
      "#printing all nouns\n",
      "print \"Nouns: \", [i for i in brown.tagged_words() if i[1] ==\"NP-TL\" or i[1] ==\"NN-TL\"  ]"
     ],
     "language": "python",
     "metadata": {
      "internals": {
       "frag_helper": "fragment_end",
       "frag_number": 125
      },
      "slideshow": {
       "slide_type": "-"
      }
     },
     "outputs": []
    },
    {
     "cell_type": "heading",
     "level": 3,
     "metadata": {
      "heading_collapsed": false,
      "internals": {
       "frag_helper": "fragment_end",
       "frag_number": 125
      },
      "slideshow": {
       "slide_type": "-"
      }
     },
     "source": [
      "Categorized Corpora"
     ]
    },
    {
     "cell_type": "code",
     "collapsed": false,
     "input": [
      "from nltk.corpus import movie_reviews\n",
      "print \"Categories are:\", movie_reviews.categories()\n",
      "for cat in movie_reviews.categories(): \n",
      "    print \"%d files in category %s\" % (len(movie_reviews.fileids(\"neg\")),cat)"
     ],
     "language": "python",
     "metadata": {
      "internals": {
       "frag_helper": "fragment_end",
       "frag_number": 125,
       "slide_helper": "subslide_end"
      },
      "slide_helper": "subslide_end",
      "slideshow": {
       "slide_type": "-"
      }
     },
     "outputs": []
    },
    {
     "cell_type": "heading",
     "level": 2,
     "metadata": {
      "heading_collapsed": false,
      "internals": {
       "frag_helper": "fragment_end",
       "frag_number": 125,
       "slide_type": "subslide"
      },
      "slideshow": {
       "slide_type": "subslide"
      }
     },
     "source": [
      "Working with Corpora Reader"
     ]
    },
    {
     "cell_type": "markdown",
     "metadata": {
      "internals": {
       "frag_helper": "fragment_end",
       "frag_number": 134
      },
      "slideshow": {
       "slide_type": "fragment"
      }
     },
     "source": [
      "A corpora reader abstracts the corpus and provids access to it."
     ]
    },
    {
     "cell_type": "markdown",
     "metadata": {
      "internals": {
       "frag_helper": "fragment_end",
       "frag_number": 135,
       "slide_helper": "subslide_end"
      },
      "slide_helper": "subslide_end",
      "slideshow": {
       "slide_type": "fragment"
      }
     },
     "source": [
      "Corpora support the following common methods (depending on the corpus type)\n",
      "\n",
      "- words(): list of str\n",
      "- sents(): list of (list of str)\n",
      "- paras(): list of (list of (list of str))\n",
      "- tagged_words(): list of (str,str) tuple\n",
      "- tagged_sents(): list of (list of (str,str))\n",
      "- tagged_paras(): list of (list of (list of (str,str)))\n",
      "- chunked_sents(): list of (Tree w/ (str,str) leaves)\n",
      "- parsed_sents(): list of (Tree with str leaves)\n",
      "- parsed_paras(): list of (list of (Tree with str leaves))\n",
      "- xml(): A single xml ElementTree\n",
      "- raw(): str (unprocessed corpus contents)"
     ]
    },
    {
     "cell_type": "heading",
     "level": 3,
     "metadata": {
      "heading_collapsed": false,
      "internals": {
       "frag_helper": "fragment_end",
       "frag_number": 135,
       "slide_type": "subslide"
      },
      "slideshow": {
       "slide_type": "subslide"
      }
     },
     "source": [
      "Automatically Created Cropus Reader Instances"
     ]
    },
    {
     "cell_type": "markdown",
     "metadata": {
      "internals": {
       "frag_helper": "fragment_end",
       "frag_number": 137
      },
      "slideshow": {
       "slide_type": "fragment"
      }
     },
     "source": [
      "Are created when importung the module `nltk.corpus`"
     ]
    },
    {
     "cell_type": "code",
     "collapsed": false,
     "input": [
      "nltk.corpus.brown"
     ],
     "language": "python",
     "metadata": {
      "internals": {
       "frag_helper": "fragment_end",
       "frag_number": 138
      },
      "slideshow": {
       "slide_type": "fragment"
      }
     },
     "outputs": []
    },
    {
     "cell_type": "code",
     "collapsed": false,
     "input": [
      "nltk.corpus.genesis"
     ],
     "language": "python",
     "metadata": {
      "internals": {
       "frag_helper": "fragment_end",
       "frag_number": 139
      },
      "slideshow": {
       "slide_type": "fragment"
      }
     },
     "outputs": []
    },
    {
     "cell_type": "code",
     "collapsed": false,
     "input": [
      "nltk.corpus.treebank"
     ],
     "language": "python",
     "metadata": {
      "internals": {
       "frag_helper": "fragment_end",
       "frag_number": 139,
       "slide_helper": "subslide_end"
      },
      "slide_helper": "subslide_end",
      "slideshow": {
       "slide_type": "-"
      }
     },
     "outputs": []
    },
    {
     "cell_type": "heading",
     "level": 3,
     "metadata": {
      "heading_collapsed": false,
      "internals": {
       "frag_helper": "fragment_end",
       "frag_number": 139,
       "slide_type": "subslide"
      },
      "slideshow": {
       "slide_type": "subslide"
      }
     },
     "source": [
      "Creating New Corpus Reader Instances"
     ]
    },
    {
     "cell_type": "markdown",
     "metadata": {
      "internals": {
       "frag_helper": "fragment_end",
       "frag_number": 142
      },
      "slideshow": {
       "slide_type": "fragment"
      }
     },
     "source": [
      "Most often you are in the situation to create your own corpus. Depending on the location and format your corpus is stored you can instantiate corpus reader instances directly. \n",
      "\n",
      "The easiest way is using a plaint text corpus on the hard disk."
     ]
    },
    {
     "cell_type": "code",
     "collapsed": false,
     "input": [
      " # Find the directory where the corpus lives.\n",
      "genesis_dir = nltk.data.find('corpora/genesis.zip').join('genesis/')\n",
      "# Create our custom sentence tokenizer.\n",
      "my_sent_tokenizer = nltk.RegexpTokenizer('[^.!?]+')\n",
      "# Create the new corpus reader object.\n",
      "my_genesis = nltk.corpus.PlaintextCorpusReader(genesis_dir, '.*\\.txt', sent_tokenizer=my_sent_tokenizer)\n",
      "# Use the new corpus reader object.\n",
      "print(my_genesis.sents('english-kjv.txt')[0]) \n",
      "['In', 'the', 'beginning', 'God', 'created', 'the', 'heaven',\n",
      " 'and', 'the', 'earth']"
     ],
     "language": "python",
     "metadata": {
      "internals": {
       "frag_helper": "fragment_end",
       "frag_number": 143
      },
      "slideshow": {
       "slide_type": "fragment"
      }
     },
     "outputs": []
    },
    {
     "cell_type": "markdown",
     "metadata": {
      "internals": {
       "frag_helper": "fragment_end",
       "frag_number": 143
      },
      "slideshow": {
       "slide_type": "-"
      }
     },
     "source": [
      "Of course this might not be the most efficient variant, since all text is loaded in memory. Also, you might want to load textual data from a stream, which would require implementing a new corpus reader. \n",
      "\n",
      "We will not go into the details here, but you can read it up at the [NLTK Corpora HOWTO](http://www.nltk.org/howto/corpus.html)"
     ]
    },
    {
     "cell_type": "markdown",
     "metadata": {
      "internals": {
       "frag_helper": "fragment_end",
       "frag_number": 143
      },
      "slideshow": {
       "slide_type": "-"
      }
     },
     "source": [
      "#Further Reading\n",
      "\n",
      "- [NLTK Book](http://www.nltk.org/book)\n",
      "- [NLTK Cheatsheet](https://blogs.princeton.edu/etc/files/2014/03/Text-Analysis-with-NLTK-Cheatsheet.pdf)\n"
     ]
    },
    {
     "cell_type": "markdown",
     "metadata": {
      "internals": {
       "frag_helper": "fragment_end",
       "frag_number": 143
      },
      "slideshow": {
       "slide_type": "-"
      }
     },
     "source": [
      "#Notebook Setup"
     ]
    },
    {
     "cell_type": "code",
     "collapsed": false,
     "input": [
      "#Stuff for presentation\n",
      "#loads section numbering https://github.com/ipython/ipython/wiki/Extensions-Index\n",
      "%reload_ext secnum\n",
      "%secnum"
     ],
     "language": "python",
     "metadata": {
      "internals": {
       "frag_helper": "fragment_end",
       "frag_number": 143,
       "slide_helper": "subslide_end"
      },
      "slide_helper": "slide_end",
      "slideshow": {
       "slide_type": "-"
      }
     },
     "outputs": [
      {
       "javascript": [
        "console.log(\"Section numbering...\");\n",
        "\n",
        "function number_sections(threshold) {\n",
        "\n",
        "  var h1_number = 0;\n",
        "  var h2_number = 0;\n",
        "\n",
        "  if (threshold === undefined) {\n",
        "    threshold = 2;  // does nothing so far\n",
        "  }\n",
        "\n",
        "  var cells = IPython.notebook.get_cells();\n",
        "  \n",
        "  for (var i=0; i < cells.length; i++) {\n",
        "\n",
        "    var cell = cells[i];\n",
        "    if (cell.cell_type !== 'heading') continue;\n",
        "    \n",
        "    var level = cell.level;\n",
        "    if (level > threshold) continue;\n",
        "    \n",
        "    if (level === 1) {\n",
        "        \n",
        "        h1_number ++;\n",
        "        var h1_element = cell.element.find('h1');\n",
        "        var h1_html = h1_element.html();\n",
        "        \n",
        "        console.log(\"h1_html: \" + h1_html);\n",
        "\n",
        "        var patt = /^[0-9]+\\.\\s(.*)/;   // section number at start of string\n",
        "        var title = h1_html.match(patt);  // just the title\n",
        "\n",
        "        if (title != null) {  \n",
        "          h1_element.html(h1_number + \". \" + title[1]);\n",
        "        }\n",
        "        else {\n",
        "          h1_element.html(h1_number + \". \" + h1_html);\n",
        "        }\n",
        "        \n",
        "        h2_number = 0;\n",
        "        \n",
        "    }\n",
        "    \n",
        "    if (level === 2) {\n",
        "    \n",
        "        h2_number ++;\n",
        "        \n",
        "        var h2_element = cell.element.find('h2');\n",
        "        var h2_html = h2_element.html();\n",
        "\n",
        "        console.log(\"h2_html: \" + h2_html);\n",
        "\n",
        "        \n",
        "        var patt = /^[0-9]+\\.[0-9]+\\.\\s/;\n",
        "        var result = h2_html.match(patt);\n",
        "\n",
        "        if (result != null) {\n",
        "          h2_html = h2_html.replace(result, \"\");\n",
        "        }\n",
        "\n",
        "        h2_element.html(h1_number + \".\" + h2_number + \". \" + h2_html);\n",
        "        \n",
        "    }\n",
        "    \n",
        "  }\n",
        "  \n",
        "}\n",
        "\n",
        "number_sections();\n",
        "\n",
        "// $([IPython.evnts]).on('create.Cell', number_sections);\n",
        "\n",
        "$([IPython.events]).on('selected_cell_type_changed.Notebook', number_sections);\n",
        "\n"
       ],
       "metadata": {},
       "output_type": "display_data"
      }
     ],
     "prompt_number": 25
    }
   ],
   "metadata": {}
  }
 ]
}
